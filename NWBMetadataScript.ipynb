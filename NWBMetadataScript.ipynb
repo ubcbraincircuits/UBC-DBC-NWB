{
 "cells": [
  {
   "attachments": {
    "6FFAE654-1244-479B-9D2C-FD6A0B64B467.png": {
     "image/png": "[encoded data removed]"
    }
   },
   "cell_type": "markdown",
   "id": "88267548",
   "metadata": {},
   "source": [
    "# The DMCBH Open Science Initiative\n",
    "\n",
    "The goal of our Open Science Initiative is to establish local support for, and a framework leading to, the transformation of the UBC Djavad Mowafaghian Centre for Brain Health into an Open Science Institute modelled after the pioneering example of the McGill Neurological Institute (MNI). Developing and adapting open science principles to suit the unique needs of our Centre necessitates collecting information on attitudes, behaviours and perceived norms, as they pertain to open science, from everyone in our research community - faculty, staff and students.  In complement to the focus groups and interviews we have been conducting with you, we have provided a script below to enable the conversion of the corresponding metadata for optical physiology experiments in a standardized NWB format. NWB (Neurodata Without Borders) is a data standard which enables neuroscientists to share and use analysis tools for neurophysiology data to break down barriers in data sharing.\n",
    "\n",
    "<div>\n",
    "<img src=\"https://pbs.twimg.com/profile_images/1133961932950532096/15M5Fvdy_400x400.png\" width=\"200\" height=\"200\"/>\n",    
    "</div>\n",
    "\n",
    "Additional Note: This script is modelled after the ophys_tutorial.ipynb found in the PyNWB documentation provided by Neurodata Without Borders."
   ]
  },
  {
   "cell_type": "markdown",
   "id": "f33a2cdb",
   "metadata": {},
   "source": [
    "# Augmenting Metadata To an NWB File \n",
    "\n",
    "The following script is meant to demonstrate how to augment metadata to a Neurodata Without Borders (https://www.nwb.org) file format (a more standardized way of storing raw and processed neuroscience data).\n",
    "Executing this script will allow you to add metadata to an nwb file that has been generated with a data analysis/visualization tool.\n",
    "\n",
    "You can use the following script assuming that you have done the steps below:\n",
    "\n",
    "<ul><li>Images have been recorded and scanned correctly with spatial calibration (with a two-photon microscope).</li>\n",
    "\n",
    "<li>The .tiff format files have then been imported and analyzed with suite2p* which produces an NWB file.</li>\n",
    "\n",
    "<li>Therefore, the NWB file created by suite2p can now be loaded and its corresponding metadata can be added by following the script below.</ul>\n",
    "\n",
    "*Additional note on using suite2p:\n",
    "If you are interested in using suite2p for calcium imaging analysis please refer to the link posted below which provides further documentation on the use of suite2p: <br>\n",
    "https://suite2p.readthedocs.io/en/latest/_modules/suite2p/io/nwb.html\n",
    "\n",
    "# Installation Requirements\n",
    "\n",
    "Prior to being able to do so, it is important to have Python 3.5+ installed on your computer (if running code on your own computer).\n",
    "Once you have python installed, you can install PyNWB by copy/pasting either of the following commands onto your terminal. PyNWB is a python package with enables working with NWB files. Please note that if you are using syzygy to execute this script the following line of code should successfully install pynwb.\n"
   ]
  },
  {
   "cell_type": "code",
   "execution_count": null,
   "id": "3ff7d467",
   "metadata": {},
   "outputs": [],
   "source": [
    "# pip install pynwb #for pip install\n",
    "# conda install -c conda-forge pynwb #for conda environment if running on your computer\n",
    "!conda install -c conda-forge pynwb -y"
   ]
  },
  {
   "cell_type": "markdown",
   "id": "eae33956",
   "metadata": {},
   "source": [
    "# Loading in NWB File Created from Suite2p\n",
    "\n",
    "In order to add relevant metadata information about the NWB file created, you must read the file, add components, and then write back to the file. When loading in the nwb file, the \"mode constructor\" must be set to 'a' which indicates that we want to add relevant metadata.\n",
    "\n",
    "Please note that you must include the file path in order to be able to successfully load in the nwb file.\n",
    "Example of sample file path if using linux: '/Users/sayeholoumi/Desktop/suite2p/ophys.nwb' if file ophys.nwb was stored in the suite2p folder on the Desktop. Example of sample file path if using windows: 'C:\\Users\\sayeholoumi\\Desktop\\suite2p\\ophys.nwb.'\n",
    "\n",
    "The following code segment below indicates how to do so with the assumption that you are using syzygy and have uploaded your nwb file in the same folder as the script you are executing:"
   ]
  },
  {
   "cell_type": "code",
   "execution_count": null,
   "id": "e66deb82",
   "metadata": {},
   "outputs": [],
   "source": [
    "from pynwb import NWBHDF5IO\n",
    "\n",
    "io = NWBHDF5IO('ophys.nwb', mode='a')\n",
    "nwbfile = io.read()"
   ]
  },
  {
   "cell_type": "markdown",
   "id": "fbc74647",
   "metadata": {},
   "source": [
    "Now that you have loaded in the nwb file, you can add in the relevant metadata. Prior to doing so you can\n",
    "check the fields that suite2p has previously filled in for the nwbfile created."
   ]
  },
  {
   "cell_type": "code",
   "execution_count": null,
   "id": "c80494b3",
   "metadata": {},
   "outputs": [],
   "source": [
    "print(nwbfile)"
   ]
  },
  {
   "cell_type": "markdown",
   "id": "5bf4c7f0",
   "metadata": {},
   "source": [
    "In order to view the specifications of each field you can use the following command: <br>\n",
    "\n",
    "`nwbfile.get_(name of field you want to view)`\n",
    "\n",
    "You can do so for the following fields: acquistion, device, imaging_plane, processing_module.\n",
    "Note that you use the above command for when the fields are part of an NWB defined class.\n",
    "\n",
    "The rest of the parameters that are set by suite2p can be viewed by using the following command: <br>\n",
    "\n",
    "`nwbfile.(name of param you want to view)`"
   ]
  },
  {
   "cell_type": "markdown",
   "id": "5bc2c95b",
   "metadata": {},
   "source": [
    "Below are code segments which show you examples of how to do so:"
   ]
  },
  {
   "cell_type": "code",
   "execution_count": null,
   "id": "0b5229d0",
   "metadata": {},
   "outputs": [],
   "source": [
    "print(nwbfile.get_acquisition())\n",
    "print(nwbfile.get_imaging_plane())"
   ]
  },
  {
   "cell_type": "code",
   "execution_count": null,
   "id": "70d125ef-d07c-4dc1-86e4-d1032d4d9490",
   "metadata": {},
   "outputs": [],
   "source": [
    "print(nwbfile.session_description)\n",
    "print(nwbfile.identifier)\n",
    "print(nwbfile.session_start_time)"
   ]
  },
  {
   "cell_type": "markdown",
   "id": "ceebb7ea",
   "metadata": {},
   "source": [
    "In order to view the parameters which are specific to the fields you are viewing (those that are part of an NWB defined class), you can do so by executing the following command:"
   ]
  },
  {
   "cell_type": "code",
   "execution_count": null,
   "id": "2cb112c8",
   "metadata": {},
   "outputs": [],
   "source": [
    "print(nwbfile.get_acquisition().device)\n",
    "print(nwbfile.get_imaging_plane().excitation_lambda)"
   ]
  },
  {
   "cell_type": "markdown",
   "id": "be6298e4",
   "metadata": {},
   "source": [
    "Please note that if you are content with the parameters filled out by suite2p, you do not have to alter them as you continue to execute the code laid out in the script below. However, you have the option of altering incorrect parameters as shown by the current excitation wavelength stored in the nwbfile."
   ]
  },
  {
   "cell_type": "markdown",
   "id": "0109ea8e",
   "metadata": {},
   "source": [
    "# Adding Information to an NWB File Object\n",
    "\n",
    "An NWB file (such as the one you have already loaded) must have the following three specifications: session description, identifier, and session start time. You cannot change these three specifications, but can change the other ones listed below. If you would like to change any of these fields, you must do so by executing the code below (and also setting additional parameters listed if you would like to). \n",
    "\n",
    "A list of all possible parameters for an NWB file: \n",
    "\n",
    "<ul>\n",
    " <li>experimenter (string) - name of person who carried out the experiment</li>\n",
    " <li>experiment_description (string) - description of the experiment</li>\n",
    " <li>lab (string) - name of lab</li>\n",
    " <li>institution (string) - name of institution </li>\n",
    " <li>session_id (string) - lab-specific ID for the session</li>\n",
    " <li>notes (string) – notes about the experiment.</li>\n",
    " <li>pharmacology (string) – sescription of drugs used, including how and when they were administered. Anesthesia(s), painkiller(s), etc., plus dosage, concentration, etc.</li>\n",
    " <li>protocol (string) – experimental protocol, if applicable. E.g., include IACUC protocol</li>\n",
    " <li>data_collection (string) –notes about data collection and analysis </li>\n",
    " <li>surgery (string) – narrative description about surgery/surgeries, including date(s) and who performed surgery </li>\n",
    " <li>virus (string) –information about virus(es) used in experiments, including virus ID, source, date made, injection location, volume, etc. </li>\n",
    " <li>stimulus_notes (string) – notes about stimuli, such as how and where presented</li>\n",
    "</ul>\n"
   ]
  },
  {
   "cell_type": "code",
   "execution_count": null,
   "id": "11287717",
   "metadata": {},
   "outputs": [],
   "source": [
    "nwbfile.experimenter = \"my name\"\n",
    "nwbfile.experiment_description = \"mouse cage experiment\"\n",
    "nwbfile.lab = \"Murphy Lab\"\n",
    "nwbfile.institution = \"UBC\"\n",
    "nwbfile.session_id = \"session_1234\"\n",
    "nwbfile.notes = \"mouse was sleepy\"\n",
    "nwbfile.pharmacology = \"1% isoflurane gas was used for anesthesia\"\n",
    "nwbfile.protocol = \"UBC ACUP A21-0207 iMAP Protocol\"\n",
    "nwbfile.data_collection = \"data collected with a 2p microscope\"\n",
    "nwbfile.surgery = \"Standard cranial window with Ti ring, 2022-02-20 by Pumin Wang\"\n",
    "print(nwbfile)"
   ]
  },
  {
   "cell_type": "markdown",
   "id": "e6159258",
   "metadata": {},
   "source": [
    "# Subject Information\n",
    "\n",
    "A subject object contains information regarding the subject of the experiment such as its id, age, species, and sex.\n",
    "\n",
    "<ul>\n",
    " <li>age (string) – the age of the subject (should be given using the ISO 8601 Duration format. (https://en.wikipedia.org/wiki/ISO_8601#Durations)</li> \n",
    " <li>description (string) – a description of the subject</li> \n",
    " <li>genotype (string) – the genotype of the subject, e.g., “Sst-IRES-Cre/wt;Ai32(RCL-ChR2(H134R)_EYFP)/wt”</li>\n",
    " <li>sex (string) – the sex of the subject should be given as F(female), M(male), U(unknown), and O(other)</li> \n",
    " <li>species (string) – the species of the subject. The formal latin binomal name is recommended, e.g., “Mus musculus” </li>\n",
    " <li>subject_id (string) – a unique identifier for the subject, e.g., “A10” </li>\n",
    " <li>weight (float or string) – the weight can be provided as a string or a number e.g., “0.02 kg”. If a number is  <li>provided it needs to be in kilograms </li> \n",
    " <li>date_of_birth (datetime) – takes in a datetime: datetime(year, month, day, hour=0, minute=0, second=0, microsecond=0)</li> \n",
    " <li>strain (string) – the strain of the subject, e.g., “C57BL/6J” </li> \n",
    "</ul>\n",
    " \n",
    "Please note that you are not required to provide information for all of these characteristics of the subject.\n",
    "Below is a sample code segment which shows how one would do so."
   ]
  },
  {
   "cell_type": "code",
   "execution_count": null,
   "id": "d4cf10ea",
   "metadata": {},
   "outputs": [],
   "source": [
    "from pynwb.file import Subject\n",
    "from datetime import datetime\n",
    "from dateutil import tz\n",
    "\n",
    "birthday = datetime(2016, 4, 25, 2, 30, 3, tzinfo=tz.gettz('US/Pacific'))\n",
    "\n",
    "nwbfile.subject = Subject(\n",
    "    subject_id='001',\n",
    "    age='P90D', \n",
    "    description='mouse 5',\n",
    "    genotype = 'tetO-GCaMP6s x CAMK tTA', \n",
    "    species='Mus musculus', \n",
    "    weight = 0.02,\n",
    "    sex='M',\n",
    "    date_of_birth = birthday,\n",
    "    strain = 'C57BL/6J'\n",
    ")\n",
    "\n",
    "print(nwbfile.subject)"
   ]
  },
  {
   "cell_type": "markdown",
   "id": "71ef19d9",
   "metadata": {},
   "source": [
    "# Trials \n",
    "\n",
    "It is common to have to conduct multiple trials for an experiment; in such cases, you can use the following code to store certain information about your trials. Please note that you are not required to provide multiple trials\n",
    "\n",
    "Trials are stored in a TimeIntervals object which is a subclass of DynamicTable. DynamicTable objects are used to store tabular metadata such as for trials and electrodes. They allow for required, optional, and custom columns.\n",
    "\n",
    "An NWB file only requires trial start time and end time; however, additional columns can be added using add_trial_column.\n",
    "\n",
    "The following code segment demonstrates how to do so when wanting to keep track of the times at which a certain type of order was presented to the mouse subject."
   ]
  },
  {
   "cell_type": "code",
   "execution_count": null,
   "id": "09980bb3",
   "metadata": {},
   "outputs": [],
   "source": [
    "nwbfile.add_trial_column(name='Odor', description='odor presented to mouse subject')\n",
    "nwbfile.add_trial(start_time=1.0, stop_time=5.0, Odor = \"odor1\")\n",
    "nwbfile.add_trial(start_time=6.0, stop_time=10.0, Odor = \"odor2\")"
   ]
  },
  {
   "cell_type": "code",
   "execution_count": null,
   "id": "fc465ff8-de36-41b3-9963-7356b5a5b51e",
   "metadata": {},
   "outputs": [],
   "source": [
    "nwbfile.add_trial_column(name='TimeOdorPresented', description = 'time at which odor was presented to mouse subject', data=[2.0, 7.0])"
   ]
  },
  {
   "cell_type": "code",
   "execution_count": null,
   "id": "bf343475-40db-490f-96ab-b16d94f973bf",
   "metadata": {},
   "outputs": [],
   "source": [
    "nwbfile.add_trial_column(name='TimeOdorStopped', description = 'time at which odor was stopped', data=[4.0,9.0])"
   ]
  },
  {
   "cell_type": "markdown",
   "id": "3fac9d33-d1ca-40cd-9b8c-b02445bbbede",
   "metadata": {},
   "source": [
    "You can view the above information in the form of a table by converting it to a pandas dataframe:"
   ]
  },
  {
   "cell_type": "code",
   "execution_count": null,
   "id": "d6fb715f",
   "metadata": {},
   "outputs": [],
   "source": [
    "nwbfile.trials.to_dataframe()"
   ]
  },
  {
   "cell_type": "markdown",
   "id": "55cab5e9",
   "metadata": {},
   "source": [
    "# Writing Optical Physiology Results:\n",
    "\n",
    "## Imaging Plane \n",
    "\n",
    "Please note that suite2p has already set an imaging plane object with a device and opticalchannel object.\n",
    "\n",
    "If you are not content with any of the fields of the imaging plane object, you can change them by executing the code segment below which clears any previous imaging planes and enables you to create a new one with the correct specifications. Please note that it is important to use a different name for these parameters as shown below.\n",
    "\n",
    "An Imaging Plane object will contain information regarding the area and method used to called imaging data. This requires making a Device and OpticalChannel object for the microscope.\n",
    "\n",
    "First, we must create an ImagingPlane object, which will hold information about the area and method used to collect the optical imaging data. This first requires creation of a Device object for the microscope and an OpticalChannel object.\n",
    "\n",
    "\n",
    "Parameters for creating an <b>imaging plane object: <br>\n",
    "<ul>\n",
    "<li>name (string) – the name of this container </li>\n",
    "<li>optical_channel (list or OpticalChannel) – one of possibly many groups storing channel-specific data.<br>\n",
    "<li>description (string) – description of this ImagingPlan.</li>\n",
    "<li>device (Device) – the device that was used to record </li>\n",
    "<li>excitation_lambda (float) – excitation wavelength in nm</li>\n",
    "<li>indicator (string) – calcium indicator </li>\n",
    "<li>location (string) – location of image plane </li>\n",
    "<li>imaging_rate (float) – rate images are acquired, in Hz. If the corresponding TimeSeries is present, the rate should be stored there instead. </li>\n",
    "<li>reference_frame (string) – describes position and reference frame of manifold based on position of first element in manifold. </li>\n",
    "<li>origin_coords (ndarray or list) – physical location of the first element of the imaging plane (0, 0) for 2-D data or (0, 0, 0) for 3-D data. See also reference_frame for what the physical location is relative to (e.g., bregma) </li>\n",
    "<li>origin_coords_unit (str) – measurement units for origin_coords. The default value is ‘meters’. </li>\n",
    "<li>grid_spacing (ndarray or list) – space between pixels in (x, y) or voxels in (x, y, z) directions, in the specified unit. Assumes imaging plane is a regular grid. See also reference_frame to interpret the grid. </li>\n",
    "<li>grid_spacing_unit (str) – measurement units for grid_spacing. The default value is ‘meters’. </li>\n",
    "</ul>\n",
    "\n",
    "\n",
    "Parameters for creating an <b>optical channel object: <br>\n",
    "<ul>\n",
    "<li>name (string) – the name of this electrode  </li>\n",
    "<li>description (string) – any notes or comments about the channel.  </li>\n",
    "<li>emission_lambda (float) – emission wavelength for channel, in nm.  </li>\n",
    "</ul>\n",
    "\n",
    "\n",
    "Parameters for creating a <b>device object: <br>\n",
    "<ul>\n",
    "<li>name (string) – the name of this device  </li>\n",
    "<li>description (string) – description of the device (e.g., model, firmware version, processing software version, etc.)  </li>\n",
    "<li>manufacturer (string) – the name of the manufacturer of this device  </li>\n",
    "</ul>\n"
   ]
  },
  {
   "cell_type": "code",
   "execution_count": null,
   "id": "23e66d89-63cf-4e53-b8a5-fbe392eda7e7",
   "metadata": {},
   "outputs": [],
   "source": [
    "from pynwb.device import Device\n",
    "from pynwb.ophys import OpticalChannel\n",
    "\n",
    "nwbfile.imaging_planes.clear()\n",
    "\n",
    "correct_device = nwbfile.create_device(\n",
    "    name='2 photon microscope', \n",
    "    description='New model',\n",
    "    manufacturer='Zeiss'\n",
    ")\n",
    "\n",
    "correct_optical_channel = OpticalChannel(\n",
    "    name='GCaMPFluoresence2',\n",
    "    description='an optical channel',\n",
    "    emission_lambda=510. # emission peak of GCamp\n",
    ")\n",
    "\n",
    "correct_imaging_plane = nwbfile.create_imaging_plane(\n",
    "    name='ImagingPlane2',\n",
    "    optical_channel=correct_optical_channel,\n",
    "    imaging_rate=30.,\n",
    "    description='images of the olfactory bulb in the mouse brain',\n",
    "    device=correct_device,\n",
    "    excitation_lambda=920.,\n",
    "    indicator='GCaMP',\n",
    "    location='mouse olfactory bulb',\n",
    ")"
   ]
  },
  {
   "cell_type": "markdown",
   "id": "41f4a494-dfdc-4936-8ed0-d0efa7540eff",
   "metadata": {},
   "source": [
    "Please note that the code segment above can only be ran once as NWB is unforgiving when it comes to changing parameters that you have previously set. It is important for the names used for the device, optical channel, and the imaging plane to be different from the one previously defined by suite2p (as done so in the code above)."
   ]
  },
  {
   "cell_type": "code",
   "execution_count": null,
   "id": "9b7c4404-ca16-49c2-a94a-0bc56d1b71ac",
   "metadata": {},
   "outputs": [],
   "source": [
    "nwbfile.imaging_planes"
   ]
  },
  {
   "cell_type": "code",
   "execution_count": null,
   "id": "78c0a826-39df-4016-bdcb-574f1ee5fc83",
   "metadata": {},
   "outputs": [],
   "source": [
    "nwbfile.get_imaging_plane().optical_channel"
   ]
  },
  {
   "cell_type": "markdown",
   "id": "a67d01f5",
   "metadata": {},
   "source": [
    "You can now write the changes you made back to the nwbfile."
   ]
  },
  {
   "cell_type": "code",
   "execution_count": null,
   "id": "eb45b307",
   "metadata": {},
   "outputs": [],
   "source": [
    "io.write(nwbfile)"
   ]
  },
  {
   "cell_type": "markdown",
   "id": "bfb275d3",
   "metadata": {},
   "source": [
    "The code segment below shows you how to read the NWB data you have just written to ensure that the changes have been made within the nwbfile."
   ]
  },
  {
   "cell_type": "code",
   "execution_count": null,
   "id": "0a8517af",
   "metadata": {},
   "outputs": [],
   "source": [
    "io = NWBHDF5IO('ophys.nwb', 'r')\n",
    "nwbfile_in = io.read()\n",
    "\n",
    "print(nwbfile_in.subject)"
   ]
  },
  {
   "cell_type": "markdown",
   "id": "97320515",
   "metadata": {},
   "source": [
    "Once you are done adding data to this NWB file you can close it (with the changes saved as you have already written to it) by closing the IO you have been using."
   ]
  },
  {
   "cell_type": "code",
   "execution_count": null,
   "id": "14f68c8b",
   "metadata": {},
   "outputs": [],
   "source": [
    "io.close()"
   ]
  }
 ],
 "metadata": {
  "kernelspec": {
   "display_name": "Python 3 (ipykernel)",
   "language": "python",
   "name": "python3"
  },
  "language_info": {
   "codemirror_mode": {
    "name": "ipython",
    "version": 3
   },
   "file_extension": ".py",
   "mimetype": "text/x-python",
   "name": "python",
   "nbconvert_exporter": "python",
   "pygments_lexer": "ipython3",
   "version": "3.9.7"
  }
 },
 "nbformat": 4,
 "nbformat_minor": 5
}
