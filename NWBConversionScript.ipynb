{
 "cells": [
  {
   "attachments": {
    "6FFAE654-1244-479B-9D2C-FD6A0B64B467.png": {
     "image/png": "[encoded data removed]"
    }
   },
   "cell_type": "markdown",
   "id": "88267548",
   "metadata": {},
   "source": [
    "# The DMCBH Open Science Initiative\n",
    "\n",
    "The goal of our Open Science Initiative is to establish local support for, and a framework leading to, the transformation of the UBC Djavad Mowafaghian Centre for Brain Health into an Open Science Institute modelled after the pioneering example of the McGill Neurological Institute (MNI). Developing and adapting open science principles to suit the unique needs of our Centre necessitates collecting information on attitudes, behaviours and perceived norms, as they pertain to open science, from everyone in our research community - faculty, staff and students.  In complement to the focus groups and interviews we have been conducting with you, we have provided a script below to enable the conversion of the corresponding metadata for optical physiology experiments in a standardized NWB format. NWB (Neurodata Without Borders) is a data standard which enables neuroscientists to share and use analysis tools for neurophysiology data and hopes to break down barriers in data sharing.\n",
    "\n",
    "<div>\n",
    "<img src=\"attachment:6FFAE654-1244-479B-9D2C-FD6A0B64B467.png\" width=\"200\" height=\"200\"/>\n",
    "</div>\n",
    "\n",
    "Additional Note: This script is modelled after the ophys_tutorial.ipynb found in the PyNWB documentation provided by Neurodata Without Borders."
   ]
  },
  {
   "cell_type": "markdown",
   "id": "f33a2cdb",
   "metadata": {},
   "source": [
    "# Converting Data To an NWB File Format\n",
    "\n",
    "The following script is meant to demonstrate how to convert data to a Neurodata Without Borders (https://www.nwb.org) file format (a more standardized way of storing raw and processed neuroscience data).\n",
    "Executing this script will allow you to add metadata to an nwb file that has been generated by using a data analysis/visualization tool an optical physiology experiment.\n",
    "\n",
    "You can use the following script assuming that you have done the steps below:\n",
    "\n",
    "Images have been recorded and scanned correctly with spatial calibration (with a two-photon microscope).\n",
    "\n",
    "The .tiff format files have then been imported and analyzed with suite2p* which produces an NWB file.\n",
    "\n",
    "Therefore, the NWB file created by suite2p can now be loaded and its corresponding metadata can be added by following the script below.\n",
    "\n",
    "*Additional note on using suite2p:\n",
    "If you are interested in using suite2p for calcium imaging analysis please refer to the link posted below which provides further documentation on the use of suite2p: <br>\n",
    "https://suite2p.readthedocs.io/en/latest/_modules/suite2p/io/nwb.html\n",
    "\n",
    "# Installation Requirements\n",
    "\n",
    "Prior to being able to do so, it is important to have Python 3.5+ installed on your computer (if running it locally).\n",
    "Once you have python installed, you can install PyNWB by copy/pasting either of the following commands onto your terminal. PyNWB is a python package with enables working with NWB files.\n"
   ]
  },
  {
   "cell_type": "code",
   "execution_count": null,
   "id": "3ff7d467",
   "metadata": {},
   "outputs": [
    {
     "name": "stdout",
     "output_type": "stream",
     "text": [
      "Collecting package metadata (current_repodata.json): done\n",
      "Solving environment: done\n",
      "\n",
      "## Package Plan ##\n",
      "\n",
      "  environment location: /opt/conda\n",
      "\n",
      "  added / updated specs:\n",
      "    - pynwb\n",
      "\n",
      "\n",
      "The following packages will be downloaded:\n",
      "\n",
      "    package                    |            build\n",
      "    ---------------------------|-----------------\n",
      "    hdmf-3.2.1                 |     pyh6c4a22f_0         129 KB  conda-forge\n",
      "    pandas-1.4.1               |   py39hde0f152_0        13.3 MB  conda-forge\n",
      "    pynwb-2.0.0                |   py39hf3d152e_1         251 KB  conda-forge\n",
      "    ------------------------------------------------------------\n",
      "                                           Total:        13.7 MB\n",
      "\n",
      "The following NEW packages will be INSTALLED:\n",
      "\n",
      "  hdmf               conda-forge/noarch::hdmf-3.2.1-pyh6c4a22f_0\n",
      "  pynwb              conda-forge/linux-64::pynwb-2.0.0-py39hf3d152e_1\n",
      "\n",
      "The following packages will be UPDATED:\n",
      "\n",
      "  pandas                               1.3.5-py39hde0f152_0 --> 1.4.1-py39hde0f152_0\n",
      "\n",
      "\n",
      "Proceed ([y]/n)? "
     ]
    }
   ],
   "source": [
    "!conda install -c conda-forge pynwb"
   ]
  },
  {
   "cell_type": "markdown",
   "id": "eae33956",
   "metadata": {},
   "source": [
    "# Loading in NWB File Created from Suite2p\n",
    "\n",
    "In order to add relevant metadata information about the NWB file created, you must read the file, add components, and then write back to the file. When loading in the nwb file, the \"mode constructor\" must be set to 'a' which indicates that we want to add relevant metadata.\n",
    "\n",
    "Please note that you must include the file path in order to be able to successfully load in the nwb file.\n",
    "Example of sample file path: '/Users/sayeholoumi/Desktop/suite2p/ophys.nwb' if file ophys.nwb was stored in the suite2p folder on the Desktop.\n",
    "\n",
    "The following code segment below indicates how to do so:"
   ]
  },
  {
   "cell_type": "code",
   "execution_count": 62,
   "id": "e66deb82",
   "metadata": {},
   "outputs": [],
   "source": [
    "from pynwb import NWBHDF5IO\n",
    "\n",
    "iov1 = NWBHDF5IO('ophys.nwb', mode='a')\n",
    "nwbfile = iov1.read()"
   ]
  },
  {
   "cell_type": "markdown",
   "id": "fbc74647",
   "metadata": {},
   "source": [
    "Now that you have loaded in the nwb file, you can add in the relevant metadata. Prior to doing so you can\n",
    "check the fields that suite2p has previously filled in for the nwbfile created."
   ]
  },
  {
   "cell_type": "code",
   "execution_count": 63,
   "id": "c80494b3",
   "metadata": {},
   "outputs": [
    {
     "name": "stdout",
     "output_type": "stream",
     "text": [
      "root pynwb.file.NWBFile at 0x139917913656720\n",
      "Fields:\n",
      "  acquisition: {\n",
      "    TwoPhotonSeries <class 'pynwb.ophys.TwoPhotonSeries'>\n",
      "  }\n",
      "  devices: {\n",
      "    2 photon microscope <class 'pynwb.device.Device'>,\n",
      "    Microscope <class 'pynwb.device.Device'>\n",
      "  }\n",
      "  file_create_date: [datetime.datetime(2022, 2, 23, 12, 37, 8, 947138, tzinfo=tzoffset(None, -28800))]\n",
      "  identifier: /Users/sayeholoumi/Desktop\n",
      "  imaging_planes: {\n",
      "    ImagingPlane <class 'pynwb.ophys.ImagingPlane'>\n",
      "  }\n",
      "  processing: {\n",
      "    ophys <class 'pynwb.base.ProcessingModule'>\n",
      "  }\n",
      "  session_description: suite2p_proc\n",
      "  session_start_time: 2022-02-23 12:35:55.096323-08:00\n",
      "  timestamps_reference_time: 2022-02-23 12:35:55.096323-08:00\n",
      "\n"
     ]
    }
   ],
   "source": [
    "print(nwbfile)"
   ]
  },
  {
   "cell_type": "markdown",
   "id": "5bf4c7f0",
   "metadata": {},
   "source": [
    "In order to view the specifications of each field you can use the following command: <br>\n",
    "\n",
    "nwbfile.get_(name of field you want to view)\n",
    "\n",
    "You can do so for the following fields: acquistion, device, imaging_plane, processing_module\n",
    "Note that you use the above command for when the fields are part of an NWB defined class.\n",
    "\n",
    "The rest of the parameters that are set by suite2p can be viewed by using the following command: <br>\n",
    "\n",
    "nwbfile.(name of param you want to view)"
   ]
  },
  {
   "cell_type": "markdown",
   "id": "5bc2c95b",
   "metadata": {},
   "source": [
    "Below is a code segment which shows you examples of how to do so:"
   ]
  },
  {
   "cell_type": "code",
   "execution_count": 64,
   "id": "0b5229d0",
   "metadata": {},
   "outputs": [
    {
     "name": "stdout",
     "output_type": "stream",
     "text": [
      "TwoPhotonSeries pynwb.ophys.TwoPhotonSeries at 0x139917909812176\n",
      "Fields:\n",
      "  comments: no comments\n",
      "  conversion: 1.0\n",
      "  data: <HDF5 dataset \"data\": shape (0, 0, 0), type \"|u1\">\n",
      "  description: no description\n",
      "  dimension: <HDF5 dataset \"dimension\": shape (2,), type \"<i8\">\n",
      "  external_file: <StrDataset for HDF5 dataset \"external_file\": shape (2,), type \"|O\">\n",
      "  format: external\n",
      "  imaging_plane: ImagingPlane pynwb.ophys.ImagingPlane at 0x139917909812416\n",
      "Fields:\n",
      "  conversion: 1.0\n",
      "  description: standard\n",
      "  device: Microscope pynwb.device.Device at 0x139917909811792\n",
      "Fields:\n",
      "  description: My two-photon microscope\n",
      "  manufacturer: The best microscope manufacturer\n",
      "\n",
      "  excitation_lambda: 600.0\n",
      "  imaging_rate: 10.0\n",
      "  indicator: GCaMP\n",
      "  location: V1\n",
      "  optical_channel: (\n",
      "    OpticalChannel <class 'pynwb.ophys.OpticalChannel'>\n",
      "  )\n",
      "  unit: meters\n",
      "\n",
      "  rate: 10.0\n",
      "  resolution: -1.0\n",
      "  starting_frame: [0]\n",
      "  starting_time: 0.0\n",
      "  starting_time_unit: seconds\n",
      "  unit: unknown\n",
      "\n"
     ]
    }
   ],
   "source": [
    "print(nwbfile.get_acquisition())"
   ]
  },
  {
   "cell_type": "code",
   "execution_count": 65,
   "id": "f669f55d-9d91-4169-9b14-3770244930ed",
   "metadata": {},
   "outputs": [
    {
     "name": "stdout",
     "output_type": "stream",
     "text": [
      "ImagingPlane pynwb.ophys.ImagingPlane at 0x139917909812416\n",
      "Fields:\n",
      "  conversion: 1.0\n",
      "  description: standard\n",
      "  device: Microscope pynwb.device.Device at 0x139917909811792\n",
      "Fields:\n",
      "  description: My two-photon microscope\n",
      "  manufacturer: The best microscope manufacturer\n",
      "\n",
      "  excitation_lambda: 600.0\n",
      "  imaging_rate: 10.0\n",
      "  indicator: GCaMP\n",
      "  location: V1\n",
      "  optical_channel: (\n",
      "    OpticalChannel <class 'pynwb.ophys.OpticalChannel'>\n",
      "  )\n",
      "  unit: meters\n",
      "\n"
     ]
    }
   ],
   "source": [
    "print(nwbfile.get_imaging_plane())"
   ]
  },
  {
   "cell_type": "code",
   "execution_count": 66,
   "id": "70d125ef-d07c-4dc1-86e4-d1032d4d9490",
   "metadata": {},
   "outputs": [
    {
     "name": "stdout",
     "output_type": "stream",
     "text": [
      "suite2p_proc\n"
     ]
    }
   ],
   "source": [
    "print(nwbfile.session_description)"
   ]
  },
  {
   "cell_type": "markdown",
   "id": "ceebb7ea",
   "metadata": {},
   "source": [
    "In order to view the parameters which are specific to the fields you are viewing (those that are part of an NWB defined class), you can do so by executing the following command:"
   ]
  },
  {
   "cell_type": "code",
   "execution_count": 67,
   "id": "2cb112c8",
   "metadata": {},
   "outputs": [
    {
     "name": "stdout",
     "output_type": "stream",
     "text": [
      "None\n"
     ]
    }
   ],
   "source": [
    "print(nwbfile.get_acquisition().device)"
   ]
  },
  {
   "cell_type": "code",
   "execution_count": 68,
   "id": "1f5c37c3-dc68-4055-910f-c2de881d89c0",
   "metadata": {},
   "outputs": [
    {
     "name": "stdout",
     "output_type": "stream",
     "text": [
      "600.0\n"
     ]
    }
   ],
   "source": [
    "print(nwbfile.get_imaging_plane().excitation_lambda)"
   ]
  },
  {
   "cell_type": "markdown",
   "id": "be6298e4",
   "metadata": {},
   "source": [
    "Please note that if you are content with the parameters filled out by suite2p, you do not have to alter them as you continue to execute the code laid out in the script below."
   ]
  },
  {
   "cell_type": "markdown",
   "id": "0109ea8e",
   "metadata": {},
   "source": [
    "# Adding Information to NWB File \n",
    "\n",
    "An NWB file (such as the one you have already loaded) must have the following three specifications: session description, identifier, and session start time. You cannot change these three specifications, but can change the other ones listed below. If you would like to change any of these fields, you must do so by executing the code below (and also setting additional parameters listed if you would like to). \n",
    "\n",
    "A list of all possible parameters for an NWB file:\n",
    "\n",
    "experimenter (string): name of person who carried out the experiment <br>\n",
    "experiment_description (string): description of the experiment <br>\n",
    "lab (string): takes in a string <br>\n",
    "institution: (string) <br>\n",
    "session_id (string): lab-specific ID for the session <br>\n",
    "notes (string) – Notes about the experiment. <br>\n",
    "pharmacology (string) – Description of drugs used, including how and when they were administered. Anesthesia(s), painkiller(s), etc., plus dosage, concentration, etc. <br>\n",
    "protocol (string) – Experimental protocol, if applicable. E.g., include IACUC protocol <br>\n",
    "slices (string) – Description of slices, including information about preparation thickness, orientation, temperature and bath solution <br>\n",
    "data_collection (string) – Notes about data collection and analysis. <br>\n",
    "surgery (string) – Narrative description about surgery/surgeries, including date(s) and who performed surgery. <br>\n",
    "virus (string) – Information about virus(es) used in experiments, including virus ID, source, date made, injection location, volume, etc. <br>\n",
    "stimulus_notes (string) – Notes about stimuli, such as how and where presented. <br>"
   ]
  },
  {
   "cell_type": "markdown",
   "id": "c8d6793d",
   "metadata": {},
   "source": [
    "If you would like to only set the optional parameters for an NWB file object you can do so by referring to the code segment below:"
   ]
  },
  {
   "cell_type": "code",
   "execution_count": 69,
   "id": "11287717",
   "metadata": {},
   "outputs": [
    {
     "name": "stdout",
     "output_type": "stream",
     "text": [
      "root pynwb.file.NWBFile at 0x139917913656720\n",
      "Fields:\n",
      "  acquisition: {\n",
      "    TwoPhotonSeries <class 'pynwb.ophys.TwoPhotonSeries'>\n",
      "  }\n",
      "  devices: {\n",
      "    2 photon microscope <class 'pynwb.device.Device'>,\n",
      "    Microscope <class 'pynwb.device.Device'>\n",
      "  }\n",
      "  experimenter: my name\n",
      "  file_create_date: [datetime.datetime(2022, 2, 23, 12, 37, 8, 947138, tzinfo=tzoffset(None, -28800))]\n",
      "  identifier: /Users/sayeholoumi/Desktop\n",
      "  imaging_planes: {\n",
      "    ImagingPlane <class 'pynwb.ophys.ImagingPlane'>\n",
      "  }\n",
      "  institution: UBC\n",
      "  lab: my lab\n",
      "  notes: mouse was sleepy\n",
      "  pharmacology: light anesthesia was used\n",
      "  processing: {\n",
      "    ophys <class 'pynwb.base.ProcessingModule'>\n",
      "  }\n",
      "  protocol: ethics protocol was followed\n",
      "  session_description: suite2p_proc\n",
      "  session_id: session_1234\n",
      "  session_start_time: 2022-02-23 12:35:55.096323-08:00\n",
      "  slices: slices were prepared in advance\n",
      "  timestamps_reference_time: 2022-02-23 12:35:55.096323-08:00\n",
      "\n"
     ]
    }
   ],
   "source": [
    "nwbfile.experimenter = \"my name\"\n",
    "nwbfile.experiment_desccription = \"mouse cage experiment\"\n",
    "nwbfile.lab = \"my lab\"\n",
    "nwbfile.institution = \"UBC\"\n",
    "nwbfile.session_id = \"session_1234\"\n",
    "nwbfile.notes = \"mouse was sleepy\"\n",
    "nwbfile.pharmacology = \"light anesthesia was used\"\n",
    "nwbfile.protocol = \"ethics protocol was followed\"\n",
    "nwbfile.slices = \"slices were prepared in advance\"\n",
    "print(nwbfile)"
   ]
  },
  {
   "cell_type": "markdown",
   "id": "e6159258",
   "metadata": {},
   "source": [
    "# Subject Information\n",
    "\n",
    "A subject object contains information regarding the subject of the experiment such as its id, age, species, and sex. \n",
    "\n",
    "age (string) – The age of the subject (should be given using the ISO 8601 Duration format. (https://en.wikipedia.org/wiki/ISO_8601#Durations) <br>\n",
    "description (string) – A description of the subject <br>\n",
    "genotype (string) – The genotype of the subject, e.g., “Sst-IRES-Cre/wt;Ai32(RCL-ChR2(H134R)_EYFP)/wt”. <br>\n",
    "sex (string) – The sex of the subject should be given as F(female), M(male), U(unknown), and O(other) <br>\n",
    "species (string) – The species of the subject. The formal latin binomal name is recommended, e.g., “Mus musculus” <br>\n",
    "subject_id (string) – A unique identifier for the subject, e.g., “A10” <br>\n",
    "weight (float or string) – The weight can be provided as a string or a number e.g., “0.02 kg”. If a number is provided it needs to be in kilograms. <br>\n",
    "date_of_birth (datetime) – takes in a datetime: datetime(year, month, day, hour=0, minute=0, second=0, microsecond=0) <br>\n",
    "strain (string) – The strain of the subject, e.g., “C57BL/6J” <br>\n",
    " \n",
    "Please note that you are not required to provide information for all of these characteristics of the subject.\n",
    "Below is a sample code segment which shows how one would do so."
   ]
  },
  {
   "cell_type": "code",
   "execution_count": 70,
   "id": "d4cf10ea",
   "metadata": {},
   "outputs": [
    {
     "name": "stdout",
     "output_type": "stream",
     "text": [
      "subject pynwb.file.Subject at 0x139917915647472\n",
      "Fields:\n",
      "  age: P90D\n",
      "  date_of_birth: 2016-04-25 02:30:03-07:00\n",
      "  description: mouse 5\n",
      "  sex: M\n",
      "  species: Mus musculus\n",
      "  strain: C57BL/6J\n",
      "  subject_id: 001\n",
      "  weight: 0.02 kg\n",
      "\n"
     ]
    }
   ],
   "source": [
    "from pynwb.file import Subject\n",
    "from datetime import datetime\n",
    "from dateutil import tz\n",
    "\n",
    "birthday = datetime(2016, 4, 25, 2, 30, 3, tzinfo=tz.gettz('US/Pacific'))\n",
    "\n",
    "nwbfile.subject = Subject(\n",
    "    subject_id='001',\n",
    "    age='P90D', \n",
    "    description='mouse 5',\n",
    "    species='Mus musculus', \n",
    "    weight = 0.02,\n",
    "    sex='M',\n",
    "    date_of_birth = birthday,\n",
    "    strain = 'C57BL/6J'\n",
    ")\n",
    "\n",
    "print(nwbfile.subject)\n"
   ]
  },
  {
   "cell_type": "markdown",
   "id": "71ef19d9",
   "metadata": {},
   "source": [
    "# Trials \n",
    "\n",
    "It is common to have to conduct multiple trials for an experiment; in such cases, you can use the following code to store certain information about your trials. Please note that you are not required to provide multiple trials\n",
    "\n",
    "Trials are stored in a TimeIntervals object which is a subclass of DynamicTable. DynamicTable objects are used to store tabular metadata such as for trials and electrodes. They allow for required, optional, and custom columns.\n",
    "\n",
    "An NWB file only requires trial start time and end time; however, additional columns can be added using add_trial_column.\n",
    "\n",
    "The following code segment demonstrates how to do so with an example column created called 'correct'."
   ]
  },
  {
   "cell_type": "code",
   "execution_count": 71,
   "id": "09980bb3",
   "metadata": {},
   "outputs": [],
   "source": [
    "nwbfile.add_trial_column(name='correct', description='whether the trial was correct')\n",
    "nwbfile.add_trial(start_time=1.0, stop_time=5.0, correct=True)\n",
    "nwbfile.add_trial(start_time=6.0, stop_time=10.0, correct=False)"
   ]
  },
  {
   "cell_type": "markdown",
   "id": "f9b23e02",
   "metadata": {},
   "source": [
    "You can view the above information in the form of a table by converting it to a pandas dataframe:"
   ]
  },
  {
   "cell_type": "code",
   "execution_count": 72,
   "id": "d6fb715f",
   "metadata": {},
   "outputs": [
    {
     "data": {
      "text/html": [
       "<div>\n",
       "<style scoped>\n",
       "    .dataframe tbody tr th:only-of-type {\n",
       "        vertical-align: middle;\n",
       "    }\n",
       "\n",
       "    .dataframe tbody tr th {\n",
       "        vertical-align: top;\n",
       "    }\n",
       "\n",
       "    .dataframe thead th {\n",
       "        text-align: right;\n",
       "    }\n",
       "</style>\n",
       "<table border=\"1\" class=\"dataframe\">\n",
       "  <thead>\n",
       "    <tr style=\"text-align: right;\">\n",
       "      <th></th>\n",
       "      <th>start_time</th>\n",
       "      <th>stop_time</th>\n",
       "      <th>correct</th>\n",
       "    </tr>\n",
       "    <tr>\n",
       "      <th>id</th>\n",
       "      <th></th>\n",
       "      <th></th>\n",
       "      <th></th>\n",
       "    </tr>\n",
       "  </thead>\n",
       "  <tbody>\n",
       "    <tr>\n",
       "      <th>0</th>\n",
       "      <td>1.0</td>\n",
       "      <td>5.0</td>\n",
       "      <td>True</td>\n",
       "    </tr>\n",
       "    <tr>\n",
       "      <th>1</th>\n",
       "      <td>6.0</td>\n",
       "      <td>10.0</td>\n",
       "      <td>False</td>\n",
       "    </tr>\n",
       "  </tbody>\n",
       "</table>\n",
       "</div>"
      ],
      "text/plain": [
       "    start_time  stop_time  correct\n",
       "id                                \n",
       "0          1.0        5.0     True\n",
       "1          6.0       10.0    False"
      ]
     },
     "execution_count": 72,
     "metadata": {},
     "output_type": "execute_result"
    }
   ],
   "source": [
    "nwbfile.trials.to_dataframe()"
   ]
  },
  {
   "cell_type": "markdown",
   "id": "55cab5e9",
   "metadata": {},
   "source": [
    "# Writing Optical Physiology Results:\n",
    "\n",
    "## Imaging Plane \n",
    "\n",
    "Please note that suite2p has already set an imaging plane object with a device and opticalchannel object.\n",
    "\n",
    "If you are not content with any of the fields of the imaging plane object, you can change them by executing the code segment below.\n",
    "\n",
    "An Imaging Plane object will contain information regarding the area and method used to called imaging data. This requires making a Device and OpticalChannel object for the microscope.\n",
    "\n",
    "First, we must create an ImagingPlane object, which will hold information about the area and method used to collect the optical imaging data. This first requires creation of a Device object for the microscope and an OpticalChannel object.\n",
    "\n",
    "Parameters for creating an imaging plane object:\n",
    "name (string) – the name of this container <br>\n",
    "optical_channel (list or OpticalChannel) – one of possibly many groups storing channel-specific data.<br>\n",
    "description (string) – description of this ImagingPlane. <br>\n",
    "device (Device) – the device that was used to record <br>\n",
    "excitation_lambda (float) – excitation wavelength in nm. <br>\n",
    "indicator (string) – calcium indicator <br>\n",
    "location (string) – location of image plane. <br>\n",
    "imaging_rate (float) – rate images are acquired, in Hz. If the corresponding TimeSeries is present, the rate should be stored there instead. <br>\n",
    "reference_frame (string) – sescribes position and reference frame of manifold based on position of first element in manifold. <br>\n",
    "origin_coords (ndarray or list) – physical location of the first element of the imaging plane (0, 0) for 2-D data or (0, 0, 0) for 3-D data. See also reference_frame for what the physical location is relative to (e.g., bregma) <br>\n",
    "origin_coords_unit (str) – measurement units for origin_coords. The default value is ‘meters’. <br>\n",
    "grid_spacing (ndarray or list) – apace between pixels in (x, y) or voxels in (x, y, z) directions, in the specified unit. Assumes imaging plane is a regular grid. See also reference_frame to interpret the grid. <br>\n",
    "grid_spacing_unit (str) – measurement units for grid_spacing. The default value is ‘meters’. <br>\n",
    "\n",
    "Parameters for creating an optical channel object: <br>\n",
    "name (string) – the name of this electrode <br>\n",
    "description (string) – Any notes or comments about the channel. <br>\n",
    "emission_lambda (float) – Emission wavelength for channel, in nm. <br>\n",
    "\n",
    "\n",
    "Parameters for creating a device object: <br>\n",
    "name (string) – the name of this device <br>\n",
    "description (string) – Description of the device (e.g., model, firmware version, processing software version, etc.) <br>\n",
    "manufacturer (string) – the name of the manufacturer of this device <br>\n"
   ]
  },
  {
   "cell_type": "code",
   "execution_count": 81,
   "id": "b80b557f",
   "metadata": {},
   "outputs": [
    {
     "ename": "ValueError",
     "evalue": "'2 photon microscope' already exists in NWBFile 'root'",
     "output_type": "error",
     "traceback": [
      "\u001b[0;31m---------------------------------------------------------------------------\u001b[0m",
      "\u001b[0;31mValueError\u001b[0m                                Traceback (most recent call last)",
      "\u001b[0;32m/tmp/ipykernel_125/68219108.py\u001b[0m in \u001b[0;36m<module>\u001b[0;34m\u001b[0m\n\u001b[1;32m      2\u001b[0m \u001b[0;32mfrom\u001b[0m \u001b[0mpynwb\u001b[0m\u001b[0;34m.\u001b[0m\u001b[0mophys\u001b[0m \u001b[0;32mimport\u001b[0m \u001b[0mOpticalChannel\u001b[0m\u001b[0;34m\u001b[0m\u001b[0;34m\u001b[0m\u001b[0m\n\u001b[1;32m      3\u001b[0m \u001b[0;34m\u001b[0m\u001b[0m\n\u001b[0;32m----> 4\u001b[0;31m device = nwbfile.create_device(\n\u001b[0m\u001b[1;32m      5\u001b[0m     \u001b[0mname\u001b[0m\u001b[0;34m=\u001b[0m\u001b[0;34m'2 photon microscope'\u001b[0m\u001b[0;34m,\u001b[0m\u001b[0;34m\u001b[0m\u001b[0;34m\u001b[0m\u001b[0m\n\u001b[1;32m      6\u001b[0m     \u001b[0mdescription\u001b[0m\u001b[0;34m=\u001b[0m\u001b[0;34m'New model'\u001b[0m\u001b[0;34m,\u001b[0m\u001b[0;34m\u001b[0m\u001b[0;34m\u001b[0m\u001b[0m\n",
      "\u001b[0;32m~/.local/lib/python3.9/site-packages/hdmf/utils.py\u001b[0m in \u001b[0;36mfunc_call\u001b[0;34m(*args, **kwargs)\u001b[0m\n\u001b[1;32m    581\u001b[0m             \u001b[0;32mdef\u001b[0m \u001b[0mfunc_call\u001b[0m\u001b[0;34m(\u001b[0m\u001b[0;34m*\u001b[0m\u001b[0margs\u001b[0m\u001b[0;34m,\u001b[0m \u001b[0;34m**\u001b[0m\u001b[0mkwargs\u001b[0m\u001b[0;34m)\u001b[0m\u001b[0;34m:\u001b[0m\u001b[0;34m\u001b[0m\u001b[0;34m\u001b[0m\u001b[0m\n\u001b[1;32m    582\u001b[0m                 \u001b[0mpargs\u001b[0m \u001b[0;34m=\u001b[0m \u001b[0m_check_args\u001b[0m\u001b[0;34m(\u001b[0m\u001b[0margs\u001b[0m\u001b[0;34m,\u001b[0m \u001b[0mkwargs\u001b[0m\u001b[0;34m)\u001b[0m\u001b[0;34m\u001b[0m\u001b[0;34m\u001b[0m\u001b[0m\n\u001b[0;32m--> 583\u001b[0;31m                 \u001b[0;32mreturn\u001b[0m \u001b[0mfunc\u001b[0m\u001b[0;34m(\u001b[0m\u001b[0margs\u001b[0m\u001b[0;34m[\u001b[0m\u001b[0;36m0\u001b[0m\u001b[0;34m]\u001b[0m\u001b[0;34m,\u001b[0m \u001b[0;34m**\u001b[0m\u001b[0mpargs\u001b[0m\u001b[0;34m)\u001b[0m\u001b[0;34m\u001b[0m\u001b[0;34m\u001b[0m\u001b[0m\n\u001b[0m\u001b[1;32m    584\u001b[0m         \u001b[0;32melse\u001b[0m\u001b[0;34m:\u001b[0m\u001b[0;34m\u001b[0m\u001b[0;34m\u001b[0m\u001b[0m\n\u001b[1;32m    585\u001b[0m             \u001b[0;32mdef\u001b[0m \u001b[0mfunc_call\u001b[0m\u001b[0;34m(\u001b[0m\u001b[0;34m*\u001b[0m\u001b[0margs\u001b[0m\u001b[0;34m,\u001b[0m \u001b[0;34m**\u001b[0m\u001b[0mkwargs\u001b[0m\u001b[0;34m)\u001b[0m\u001b[0;34m:\u001b[0m\u001b[0;34m\u001b[0m\u001b[0;34m\u001b[0m\u001b[0m\n",
      "\u001b[0;32m~/.local/lib/python3.9/site-packages/hdmf/container.py\u001b[0m in \u001b[0;36m_func\u001b[0;34m(self, **kwargs)\u001b[0m\n\u001b[1;32m    760\u001b[0m             \u001b[0mcargs\u001b[0m\u001b[0;34m,\u001b[0m \u001b[0mckwargs\u001b[0m \u001b[0;34m=\u001b[0m \u001b[0mfmt_docval_args\u001b[0m\u001b[0;34m(\u001b[0m\u001b[0mcontainer_type\u001b[0m\u001b[0;34m.\u001b[0m\u001b[0m__init__\u001b[0m\u001b[0;34m,\u001b[0m \u001b[0mkwargs\u001b[0m\u001b[0;34m)\u001b[0m\u001b[0;34m\u001b[0m\u001b[0;34m\u001b[0m\u001b[0m\n\u001b[1;32m    761\u001b[0m             \u001b[0mret\u001b[0m \u001b[0;34m=\u001b[0m \u001b[0mcontainer_type\u001b[0m\u001b[0;34m(\u001b[0m\u001b[0;34m*\u001b[0m\u001b[0mcargs\u001b[0m\u001b[0;34m,\u001b[0m \u001b[0;34m**\u001b[0m\u001b[0mckwargs\u001b[0m\u001b[0;34m)\u001b[0m\u001b[0;34m\u001b[0m\u001b[0;34m\u001b[0m\u001b[0m\n\u001b[0;32m--> 762\u001b[0;31m             \u001b[0mgetattr\u001b[0m\u001b[0;34m(\u001b[0m\u001b[0mself\u001b[0m\u001b[0;34m,\u001b[0m \u001b[0madd_name\u001b[0m\u001b[0;34m)\u001b[0m\u001b[0;34m(\u001b[0m\u001b[0mret\u001b[0m\u001b[0;34m)\u001b[0m\u001b[0;34m\u001b[0m\u001b[0;34m\u001b[0m\u001b[0m\n\u001b[0m\u001b[1;32m    763\u001b[0m             \u001b[0;32mreturn\u001b[0m \u001b[0mret\u001b[0m\u001b[0;34m\u001b[0m\u001b[0;34m\u001b[0m\u001b[0m\n\u001b[1;32m    764\u001b[0m \u001b[0;34m\u001b[0m\u001b[0m\n",
      "\u001b[0;32m~/.local/lib/python3.9/site-packages/hdmf/utils.py\u001b[0m in \u001b[0;36mfunc_call\u001b[0;34m(*args, **kwargs)\u001b[0m\n\u001b[1;32m    581\u001b[0m             \u001b[0;32mdef\u001b[0m \u001b[0mfunc_call\u001b[0m\u001b[0;34m(\u001b[0m\u001b[0;34m*\u001b[0m\u001b[0margs\u001b[0m\u001b[0;34m,\u001b[0m \u001b[0;34m**\u001b[0m\u001b[0mkwargs\u001b[0m\u001b[0;34m)\u001b[0m\u001b[0;34m:\u001b[0m\u001b[0;34m\u001b[0m\u001b[0;34m\u001b[0m\u001b[0m\n\u001b[1;32m    582\u001b[0m                 \u001b[0mpargs\u001b[0m \u001b[0;34m=\u001b[0m \u001b[0m_check_args\u001b[0m\u001b[0;34m(\u001b[0m\u001b[0margs\u001b[0m\u001b[0;34m,\u001b[0m \u001b[0mkwargs\u001b[0m\u001b[0;34m)\u001b[0m\u001b[0;34m\u001b[0m\u001b[0;34m\u001b[0m\u001b[0m\n\u001b[0;32m--> 583\u001b[0;31m                 \u001b[0;32mreturn\u001b[0m \u001b[0mfunc\u001b[0m\u001b[0;34m(\u001b[0m\u001b[0margs\u001b[0m\u001b[0;34m[\u001b[0m\u001b[0;36m0\u001b[0m\u001b[0;34m]\u001b[0m\u001b[0;34m,\u001b[0m \u001b[0;34m**\u001b[0m\u001b[0mpargs\u001b[0m\u001b[0;34m)\u001b[0m\u001b[0;34m\u001b[0m\u001b[0;34m\u001b[0m\u001b[0m\n\u001b[0m\u001b[1;32m    584\u001b[0m         \u001b[0;32melse\u001b[0m\u001b[0;34m:\u001b[0m\u001b[0;34m\u001b[0m\u001b[0;34m\u001b[0m\u001b[0m\n\u001b[1;32m    585\u001b[0m             \u001b[0;32mdef\u001b[0m \u001b[0mfunc_call\u001b[0m\u001b[0;34m(\u001b[0m\u001b[0;34m*\u001b[0m\u001b[0margs\u001b[0m\u001b[0;34m,\u001b[0m \u001b[0;34m**\u001b[0m\u001b[0mkwargs\u001b[0m\u001b[0;34m)\u001b[0m\u001b[0;34m:\u001b[0m\u001b[0;34m\u001b[0m\u001b[0;34m\u001b[0m\u001b[0m\n",
      "\u001b[0;32m~/.local/lib/python3.9/site-packages/hdmf/container.py\u001b[0m in \u001b[0;36m_func\u001b[0;34m(self, **kwargs)\u001b[0m\n\u001b[1;32m    745\u001b[0m                 \u001b[0;32mif\u001b[0m \u001b[0mtmp\u001b[0m\u001b[0;34m.\u001b[0m\u001b[0mname\u001b[0m \u001b[0;32min\u001b[0m \u001b[0md\u001b[0m\u001b[0;34m:\u001b[0m\u001b[0;34m\u001b[0m\u001b[0;34m\u001b[0m\u001b[0m\n\u001b[1;32m    746\u001b[0m                     \u001b[0mmsg\u001b[0m \u001b[0;34m=\u001b[0m \u001b[0;34m\"'%s' already exists in %s '%s'\"\u001b[0m \u001b[0;34m%\u001b[0m \u001b[0;34m(\u001b[0m\u001b[0mtmp\u001b[0m\u001b[0;34m.\u001b[0m\u001b[0mname\u001b[0m\u001b[0;34m,\u001b[0m \u001b[0mcls\u001b[0m\u001b[0;34m.\u001b[0m\u001b[0m__name__\u001b[0m\u001b[0;34m,\u001b[0m \u001b[0mself\u001b[0m\u001b[0;34m.\u001b[0m\u001b[0mname\u001b[0m\u001b[0;34m)\u001b[0m\u001b[0;34m\u001b[0m\u001b[0;34m\u001b[0m\u001b[0m\n\u001b[0;32m--> 747\u001b[0;31m                     \u001b[0;32mraise\u001b[0m \u001b[0mValueError\u001b[0m\u001b[0;34m(\u001b[0m\u001b[0mmsg\u001b[0m\u001b[0;34m)\u001b[0m\u001b[0;34m\u001b[0m\u001b[0;34m\u001b[0m\u001b[0m\n\u001b[0m\u001b[1;32m    748\u001b[0m                 \u001b[0md\u001b[0m\u001b[0;34m[\u001b[0m\u001b[0mtmp\u001b[0m\u001b[0;34m.\u001b[0m\u001b[0mname\u001b[0m\u001b[0;34m]\u001b[0m \u001b[0;34m=\u001b[0m \u001b[0mtmp\u001b[0m\u001b[0;34m\u001b[0m\u001b[0;34m\u001b[0m\u001b[0m\n\u001b[1;32m    749\u001b[0m             \u001b[0;32mreturn\u001b[0m \u001b[0mcontainer\u001b[0m\u001b[0;34m\u001b[0m\u001b[0;34m\u001b[0m\u001b[0m\n",
      "\u001b[0;31mValueError\u001b[0m: '2 photon microscope' already exists in NWBFile 'root'"
     ]
    }
   ],
   "source": [
    "\n",
    "from pynwb.device import Device\n",
    "from pynwb.ophys import OpticalChannel\n",
    "\n",
    "device = nwbfile.create_device(\n",
    "    name='2 photon microscope', \n",
    "    description='New model',\n",
    "    manufacturer='Zeiss'\n",
    ")\n",
    "\n",
    "optical_channel = OpticalChannel(\n",
    "    name='GCaMPFluoresence', \n",
    "    description='an optical channel', \n",
    "    emission_lambda=500. # emission peak of GCamp\n",
    ")"
   ]
  },
  {
   "cell_type": "markdown",
   "id": "b163f956",
   "metadata": {},
   "source": [
    "You can now put together the device and optical channel in an imaging plane object. Prior to doing so, you must clear the previous imaging plane set by suite2p which you are not content with.\n",
    "\n",
    "You can also view the device and opticalchannel that you have now set."
   ]
  },
  {
   "cell_type": "code",
   "execution_count": 74,
   "id": "31670d9a",
   "metadata": {},
   "outputs": [
    {
     "data": {
      "text/plain": [
       "2 photon microscope pynwb.device.Device at 0x139917910696336\n",
       "Fields:\n",
       "  description: New model\n",
       "  manufacturer: Zeiss"
      ]
     },
     "execution_count": 74,
     "metadata": {},
     "output_type": "execute_result"
    }
   ],
   "source": [
    "nwbfile.imaging_planes.clear()\n",
    "\n",
    "imaging_plane = nwbfile.create_imaging_plane(\n",
    "    name='ImagingPlane',\n",
    "    optical_channel=optical_channel,\n",
    "    imaging_rate=30.,\n",
    "    description='images of the olfactory bulb in the mouse brain',\n",
    "    device=device,\n",
    "    excitation_lambda=920., \n",
    "    indicator='GCaMP', \n",
    "    location='mouse olfactory bulb', \n",
    ")\n",
    "\n",
    "nwbfile.get_imaging_plane().device"
   ]
  },
  {
   "cell_type": "code",
   "execution_count": 75,
   "id": "78c0a826-39df-4016-bdcb-574f1ee5fc83",
   "metadata": {},
   "outputs": [
    {
     "data": {
      "text/plain": [
       "[GCaMPFluoresence pynwb.ophys.OpticalChannel at 0x139917910699072\n",
       " Fields:\n",
       "   description: an optical channel\n",
       "   emission_lambda: 500.0]"
      ]
     },
     "execution_count": 75,
     "metadata": {},
     "output_type": "execute_result"
    }
   ],
   "source": [
    "nwbfile.get_imaging_plane().optical_channel"
   ]
  },
  {
   "cell_type": "markdown",
   "id": "a67d01f5",
   "metadata": {},
   "source": [
    "You can now write the changes you made back to the nwbfile."
   ]
  },
  {
   "cell_type": "code",
   "execution_count": 80,
   "id": "eb45b307",
   "metadata": {},
   "outputs": [
    {
     "ename": "OSError",
     "evalue": "Unable to create file (unable to truncate a file which is already open)",
     "output_type": "error",
     "traceback": [
      "\u001b[0;31m---------------------------------------------------------------------------\u001b[0m",
      "\u001b[0;31mOSError\u001b[0m                                   Traceback (most recent call last)",
      "\u001b[0;32m/tmp/ipykernel_125/156916887.py\u001b[0m in \u001b[0;36m<module>\u001b[0;34m\u001b[0m\n\u001b[0;32m----> 1\u001b[0;31m \u001b[0;32mwith\u001b[0m \u001b[0mNWBHDF5IO\u001b[0m\u001b[0;34m(\u001b[0m\u001b[0;34m'ophys.nwb'\u001b[0m\u001b[0;34m,\u001b[0m \u001b[0;34m'w'\u001b[0m\u001b[0;34m)\u001b[0m \u001b[0;32mas\u001b[0m \u001b[0miov1\u001b[0m\u001b[0;34m:\u001b[0m\u001b[0;34m\u001b[0m\u001b[0;34m\u001b[0m\u001b[0m\n\u001b[0m\u001b[1;32m      2\u001b[0m     \u001b[0miov1\u001b[0m\u001b[0;34m.\u001b[0m\u001b[0mwrite\u001b[0m\u001b[0;34m(\u001b[0m\u001b[0mnwbfile\u001b[0m\u001b[0;34m)\u001b[0m\u001b[0;34m\u001b[0m\u001b[0;34m\u001b[0m\u001b[0m\n",
      "\u001b[0;32m~/.local/lib/python3.9/site-packages/hdmf/utils.py\u001b[0m in \u001b[0;36mfunc_call\u001b[0;34m(*args, **kwargs)\u001b[0m\n\u001b[1;32m    581\u001b[0m             \u001b[0;32mdef\u001b[0m \u001b[0mfunc_call\u001b[0m\u001b[0;34m(\u001b[0m\u001b[0;34m*\u001b[0m\u001b[0margs\u001b[0m\u001b[0;34m,\u001b[0m \u001b[0;34m**\u001b[0m\u001b[0mkwargs\u001b[0m\u001b[0;34m)\u001b[0m\u001b[0;34m:\u001b[0m\u001b[0;34m\u001b[0m\u001b[0;34m\u001b[0m\u001b[0m\n\u001b[1;32m    582\u001b[0m                 \u001b[0mpargs\u001b[0m \u001b[0;34m=\u001b[0m \u001b[0m_check_args\u001b[0m\u001b[0;34m(\u001b[0m\u001b[0margs\u001b[0m\u001b[0;34m,\u001b[0m \u001b[0mkwargs\u001b[0m\u001b[0;34m)\u001b[0m\u001b[0;34m\u001b[0m\u001b[0;34m\u001b[0m\u001b[0m\n\u001b[0;32m--> 583\u001b[0;31m                 \u001b[0;32mreturn\u001b[0m \u001b[0mfunc\u001b[0m\u001b[0;34m(\u001b[0m\u001b[0margs\u001b[0m\u001b[0;34m[\u001b[0m\u001b[0;36m0\u001b[0m\u001b[0;34m]\u001b[0m\u001b[0;34m,\u001b[0m \u001b[0;34m**\u001b[0m\u001b[0mpargs\u001b[0m\u001b[0;34m)\u001b[0m\u001b[0;34m\u001b[0m\u001b[0;34m\u001b[0m\u001b[0m\n\u001b[0m\u001b[1;32m    584\u001b[0m         \u001b[0;32melse\u001b[0m\u001b[0;34m:\u001b[0m\u001b[0;34m\u001b[0m\u001b[0;34m\u001b[0m\u001b[0m\n\u001b[1;32m    585\u001b[0m             \u001b[0;32mdef\u001b[0m \u001b[0mfunc_call\u001b[0m\u001b[0;34m(\u001b[0m\u001b[0;34m*\u001b[0m\u001b[0margs\u001b[0m\u001b[0;34m,\u001b[0m \u001b[0;34m**\u001b[0m\u001b[0mkwargs\u001b[0m\u001b[0;34m)\u001b[0m\u001b[0;34m:\u001b[0m\u001b[0;34m\u001b[0m\u001b[0;34m\u001b[0m\u001b[0m\n",
      "\u001b[0;32m~/.local/lib/python3.9/site-packages/pynwb/__init__.py\u001b[0m in \u001b[0;36m__init__\u001b[0;34m(self, **kwargs)\u001b[0m\n\u001b[1;32m    244\u001b[0m             \u001b[0;32melif\u001b[0m \u001b[0mmanager\u001b[0m \u001b[0;32mis\u001b[0m \u001b[0;32mNone\u001b[0m\u001b[0;34m:\u001b[0m\u001b[0;34m\u001b[0m\u001b[0;34m\u001b[0m\u001b[0m\n\u001b[1;32m    245\u001b[0m                 \u001b[0mmanager\u001b[0m \u001b[0;34m=\u001b[0m \u001b[0mget_manager\u001b[0m\u001b[0;34m(\u001b[0m\u001b[0;34m)\u001b[0m\u001b[0;34m\u001b[0m\u001b[0;34m\u001b[0m\u001b[0m\n\u001b[0;32m--> 246\u001b[0;31m         \u001b[0msuper\u001b[0m\u001b[0;34m(\u001b[0m\u001b[0mNWBHDF5IO\u001b[0m\u001b[0;34m,\u001b[0m \u001b[0mself\u001b[0m\u001b[0;34m)\u001b[0m\u001b[0;34m.\u001b[0m\u001b[0m__init__\u001b[0m\u001b[0;34m(\u001b[0m\u001b[0mpath\u001b[0m\u001b[0;34m,\u001b[0m \u001b[0mmanager\u001b[0m\u001b[0;34m=\u001b[0m\u001b[0mmanager\u001b[0m\u001b[0;34m,\u001b[0m \u001b[0mmode\u001b[0m\u001b[0;34m=\u001b[0m\u001b[0mmode\u001b[0m\u001b[0;34m,\u001b[0m \u001b[0mfile\u001b[0m\u001b[0;34m=\u001b[0m\u001b[0mfile_obj\u001b[0m\u001b[0;34m,\u001b[0m \u001b[0mcomm\u001b[0m\u001b[0;34m=\u001b[0m\u001b[0mcomm\u001b[0m\u001b[0;34m,\u001b[0m \u001b[0mdriver\u001b[0m\u001b[0;34m=\u001b[0m\u001b[0mdriver\u001b[0m\u001b[0;34m)\u001b[0m\u001b[0;34m\u001b[0m\u001b[0;34m\u001b[0m\u001b[0m\n\u001b[0m\u001b[1;32m    247\u001b[0m \u001b[0;34m\u001b[0m\u001b[0m\n\u001b[1;32m    248\u001b[0m     @docval({'name': 'src_io', 'type': HDMFIO, 'doc': 'the HDMFIO object for reading the data to export'},\n",
      "\u001b[0;32m~/.local/lib/python3.9/site-packages/hdmf/utils.py\u001b[0m in \u001b[0;36mfunc_call\u001b[0;34m(*args, **kwargs)\u001b[0m\n\u001b[1;32m    581\u001b[0m             \u001b[0;32mdef\u001b[0m \u001b[0mfunc_call\u001b[0m\u001b[0;34m(\u001b[0m\u001b[0;34m*\u001b[0m\u001b[0margs\u001b[0m\u001b[0;34m,\u001b[0m \u001b[0;34m**\u001b[0m\u001b[0mkwargs\u001b[0m\u001b[0;34m)\u001b[0m\u001b[0;34m:\u001b[0m\u001b[0;34m\u001b[0m\u001b[0;34m\u001b[0m\u001b[0m\n\u001b[1;32m    582\u001b[0m                 \u001b[0mpargs\u001b[0m \u001b[0;34m=\u001b[0m \u001b[0m_check_args\u001b[0m\u001b[0;34m(\u001b[0m\u001b[0margs\u001b[0m\u001b[0;34m,\u001b[0m \u001b[0mkwargs\u001b[0m\u001b[0;34m)\u001b[0m\u001b[0;34m\u001b[0m\u001b[0;34m\u001b[0m\u001b[0m\n\u001b[0;32m--> 583\u001b[0;31m                 \u001b[0;32mreturn\u001b[0m \u001b[0mfunc\u001b[0m\u001b[0;34m(\u001b[0m\u001b[0margs\u001b[0m\u001b[0;34m[\u001b[0m\u001b[0;36m0\u001b[0m\u001b[0;34m]\u001b[0m\u001b[0;34m,\u001b[0m \u001b[0;34m**\u001b[0m\u001b[0mpargs\u001b[0m\u001b[0;34m)\u001b[0m\u001b[0;34m\u001b[0m\u001b[0;34m\u001b[0m\u001b[0m\n\u001b[0m\u001b[1;32m    584\u001b[0m         \u001b[0;32melse\u001b[0m\u001b[0;34m:\u001b[0m\u001b[0;34m\u001b[0m\u001b[0;34m\u001b[0m\u001b[0m\n\u001b[1;32m    585\u001b[0m             \u001b[0;32mdef\u001b[0m \u001b[0mfunc_call\u001b[0m\u001b[0;34m(\u001b[0m\u001b[0;34m*\u001b[0m\u001b[0margs\u001b[0m\u001b[0;34m,\u001b[0m \u001b[0;34m**\u001b[0m\u001b[0mkwargs\u001b[0m\u001b[0;34m)\u001b[0m\u001b[0;34m:\u001b[0m\u001b[0;34m\u001b[0m\u001b[0;34m\u001b[0m\u001b[0m\n",
      "\u001b[0;32m~/.local/lib/python3.9/site-packages/hdmf/backends/hdf5/h5tools.py\u001b[0m in \u001b[0;36m__init__\u001b[0;34m(self, **kwargs)\u001b[0m\n\u001b[1;32m     77\u001b[0m         \u001b[0mself\u001b[0m\u001b[0;34m.\u001b[0m\u001b[0m__mode\u001b[0m \u001b[0;34m=\u001b[0m \u001b[0mmode\u001b[0m\u001b[0;34m\u001b[0m\u001b[0;34m\u001b[0m\u001b[0m\n\u001b[1;32m     78\u001b[0m         \u001b[0mself\u001b[0m\u001b[0;34m.\u001b[0m\u001b[0m__file\u001b[0m \u001b[0;34m=\u001b[0m \u001b[0mfile_obj\u001b[0m\u001b[0;34m\u001b[0m\u001b[0;34m\u001b[0m\u001b[0m\n\u001b[0;32m---> 79\u001b[0;31m         \u001b[0msuper\u001b[0m\u001b[0;34m(\u001b[0m\u001b[0;34m)\u001b[0m\u001b[0;34m.\u001b[0m\u001b[0m__init__\u001b[0m\u001b[0;34m(\u001b[0m\u001b[0mmanager\u001b[0m\u001b[0;34m,\u001b[0m \u001b[0msource\u001b[0m\u001b[0;34m=\u001b[0m\u001b[0mpath\u001b[0m\u001b[0;34m)\u001b[0m\u001b[0;34m\u001b[0m\u001b[0;34m\u001b[0m\u001b[0m\n\u001b[0m\u001b[1;32m     80\u001b[0m         \u001b[0mself\u001b[0m\u001b[0;34m.\u001b[0m\u001b[0m__built\u001b[0m \u001b[0;34m=\u001b[0m \u001b[0mdict\u001b[0m\u001b[0;34m(\u001b[0m\u001b[0;34m)\u001b[0m       \u001b[0;31m# keep track of each builder for each dataset/group/link for each file\u001b[0m\u001b[0;34m\u001b[0m\u001b[0;34m\u001b[0m\u001b[0m\n\u001b[1;32m     81\u001b[0m         \u001b[0mself\u001b[0m\u001b[0;34m.\u001b[0m\u001b[0m__read\u001b[0m \u001b[0;34m=\u001b[0m \u001b[0mdict\u001b[0m\u001b[0;34m(\u001b[0m\u001b[0;34m)\u001b[0m        \u001b[0;31m# keep track of which files have been read. Key is the filename value is the builder\u001b[0m\u001b[0;34m\u001b[0m\u001b[0;34m\u001b[0m\u001b[0m\n",
      "\u001b[0;32m~/.local/lib/python3.9/site-packages/hdmf/utils.py\u001b[0m in \u001b[0;36mfunc_call\u001b[0;34m(*args, **kwargs)\u001b[0m\n\u001b[1;32m    581\u001b[0m             \u001b[0;32mdef\u001b[0m \u001b[0mfunc_call\u001b[0m\u001b[0;34m(\u001b[0m\u001b[0;34m*\u001b[0m\u001b[0margs\u001b[0m\u001b[0;34m,\u001b[0m \u001b[0;34m**\u001b[0m\u001b[0mkwargs\u001b[0m\u001b[0;34m)\u001b[0m\u001b[0;34m:\u001b[0m\u001b[0;34m\u001b[0m\u001b[0;34m\u001b[0m\u001b[0m\n\u001b[1;32m    582\u001b[0m                 \u001b[0mpargs\u001b[0m \u001b[0;34m=\u001b[0m \u001b[0m_check_args\u001b[0m\u001b[0;34m(\u001b[0m\u001b[0margs\u001b[0m\u001b[0;34m,\u001b[0m \u001b[0mkwargs\u001b[0m\u001b[0;34m)\u001b[0m\u001b[0;34m\u001b[0m\u001b[0;34m\u001b[0m\u001b[0m\n\u001b[0;32m--> 583\u001b[0;31m                 \u001b[0;32mreturn\u001b[0m \u001b[0mfunc\u001b[0m\u001b[0;34m(\u001b[0m\u001b[0margs\u001b[0m\u001b[0;34m[\u001b[0m\u001b[0;36m0\u001b[0m\u001b[0;34m]\u001b[0m\u001b[0;34m,\u001b[0m \u001b[0;34m**\u001b[0m\u001b[0mpargs\u001b[0m\u001b[0;34m)\u001b[0m\u001b[0;34m\u001b[0m\u001b[0;34m\u001b[0m\u001b[0m\n\u001b[0m\u001b[1;32m    584\u001b[0m         \u001b[0;32melse\u001b[0m\u001b[0;34m:\u001b[0m\u001b[0;34m\u001b[0m\u001b[0;34m\u001b[0m\u001b[0m\n\u001b[1;32m    585\u001b[0m             \u001b[0;32mdef\u001b[0m \u001b[0mfunc_call\u001b[0m\u001b[0;34m(\u001b[0m\u001b[0;34m*\u001b[0m\u001b[0margs\u001b[0m\u001b[0;34m,\u001b[0m \u001b[0;34m**\u001b[0m\u001b[0mkwargs\u001b[0m\u001b[0;34m)\u001b[0m\u001b[0;34m:\u001b[0m\u001b[0;34m\u001b[0m\u001b[0;34m\u001b[0m\u001b[0m\n",
      "\u001b[0;32m~/.local/lib/python3.9/site-packages/hdmf/backends/io.py\u001b[0m in \u001b[0;36m__init__\u001b[0;34m(self, **kwargs)\u001b[0m\n\u001b[1;32m     20\u001b[0m         \u001b[0mself\u001b[0m\u001b[0;34m.\u001b[0m\u001b[0m__built\u001b[0m \u001b[0;34m=\u001b[0m \u001b[0mdict\u001b[0m\u001b[0;34m(\u001b[0m\u001b[0;34m)\u001b[0m\u001b[0;34m\u001b[0m\u001b[0;34m\u001b[0m\u001b[0m\n\u001b[1;32m     21\u001b[0m         \u001b[0mself\u001b[0m\u001b[0;34m.\u001b[0m\u001b[0m__source\u001b[0m \u001b[0;34m=\u001b[0m \u001b[0msource\u001b[0m\u001b[0;34m\u001b[0m\u001b[0;34m\u001b[0m\u001b[0m\n\u001b[0;32m---> 22\u001b[0;31m         \u001b[0mself\u001b[0m\u001b[0;34m.\u001b[0m\u001b[0mopen\u001b[0m\u001b[0;34m(\u001b[0m\u001b[0;34m)\u001b[0m\u001b[0;34m\u001b[0m\u001b[0;34m\u001b[0m\u001b[0m\n\u001b[0m\u001b[1;32m     23\u001b[0m \u001b[0;34m\u001b[0m\u001b[0m\n\u001b[1;32m     24\u001b[0m     \u001b[0;34m@\u001b[0m\u001b[0mproperty\u001b[0m\u001b[0;34m\u001b[0m\u001b[0;34m\u001b[0m\u001b[0m\n",
      "\u001b[0;32m~/.local/lib/python3.9/site-packages/hdmf/backends/hdf5/h5tools.py\u001b[0m in \u001b[0;36mopen\u001b[0;34m(self)\u001b[0m\n\u001b[1;32m    772\u001b[0m                 \u001b[0mkwargs\u001b[0m\u001b[0;34m.\u001b[0m\u001b[0mupdate\u001b[0m\u001b[0;34m(\u001b[0m\u001b[0mdriver\u001b[0m\u001b[0;34m=\u001b[0m\u001b[0mself\u001b[0m\u001b[0;34m.\u001b[0m\u001b[0mdriver\u001b[0m\u001b[0;34m)\u001b[0m\u001b[0;34m\u001b[0m\u001b[0;34m\u001b[0m\u001b[0m\n\u001b[1;32m    773\u001b[0m \u001b[0;34m\u001b[0m\u001b[0m\n\u001b[0;32m--> 774\u001b[0;31m             \u001b[0mself\u001b[0m\u001b[0;34m.\u001b[0m\u001b[0m__file\u001b[0m \u001b[0;34m=\u001b[0m \u001b[0mFile\u001b[0m\u001b[0;34m(\u001b[0m\u001b[0mself\u001b[0m\u001b[0;34m.\u001b[0m\u001b[0msource\u001b[0m\u001b[0;34m,\u001b[0m \u001b[0mopen_flag\u001b[0m\u001b[0;34m,\u001b[0m \u001b[0;34m**\u001b[0m\u001b[0mkwargs\u001b[0m\u001b[0;34m)\u001b[0m\u001b[0;34m\u001b[0m\u001b[0;34m\u001b[0m\u001b[0m\n\u001b[0m\u001b[1;32m    775\u001b[0m \u001b[0;34m\u001b[0m\u001b[0m\n\u001b[1;32m    776\u001b[0m     \u001b[0;32mdef\u001b[0m \u001b[0mclose\u001b[0m\u001b[0;34m(\u001b[0m\u001b[0mself\u001b[0m\u001b[0;34m)\u001b[0m\u001b[0;34m:\u001b[0m\u001b[0;34m\u001b[0m\u001b[0;34m\u001b[0m\u001b[0m\n",
      "\u001b[0;32m/opt/conda/lib/python3.9/site-packages/h5py/_hl/files.py\u001b[0m in \u001b[0;36m__init__\u001b[0;34m(self, name, mode, driver, libver, userblock_size, swmr, rdcc_nslots, rdcc_nbytes, rdcc_w0, track_order, fs_strategy, fs_persist, fs_threshold, fs_page_size, page_buf_size, min_meta_keep, min_raw_keep, locking, **kwds)\u001b[0m\n\u001b[1;32m    505\u001b[0m                                  \u001b[0mfs_persist\u001b[0m\u001b[0;34m=\u001b[0m\u001b[0mfs_persist\u001b[0m\u001b[0;34m,\u001b[0m \u001b[0mfs_threshold\u001b[0m\u001b[0;34m=\u001b[0m\u001b[0mfs_threshold\u001b[0m\u001b[0;34m,\u001b[0m\u001b[0;34m\u001b[0m\u001b[0;34m\u001b[0m\u001b[0m\n\u001b[1;32m    506\u001b[0m                                  fs_page_size=fs_page_size)\n\u001b[0;32m--> 507\u001b[0;31m                 \u001b[0mfid\u001b[0m \u001b[0;34m=\u001b[0m \u001b[0mmake_fid\u001b[0m\u001b[0;34m(\u001b[0m\u001b[0mname\u001b[0m\u001b[0;34m,\u001b[0m \u001b[0mmode\u001b[0m\u001b[0;34m,\u001b[0m \u001b[0muserblock_size\u001b[0m\u001b[0;34m,\u001b[0m \u001b[0mfapl\u001b[0m\u001b[0;34m,\u001b[0m \u001b[0mfcpl\u001b[0m\u001b[0;34m,\u001b[0m \u001b[0mswmr\u001b[0m\u001b[0;34m=\u001b[0m\u001b[0mswmr\u001b[0m\u001b[0;34m)\u001b[0m\u001b[0;34m\u001b[0m\u001b[0;34m\u001b[0m\u001b[0m\n\u001b[0m\u001b[1;32m    508\u001b[0m \u001b[0;34m\u001b[0m\u001b[0m\n\u001b[1;32m    509\u001b[0m             \u001b[0;32mif\u001b[0m \u001b[0misinstance\u001b[0m\u001b[0;34m(\u001b[0m\u001b[0mlibver\u001b[0m\u001b[0;34m,\u001b[0m \u001b[0mtuple\u001b[0m\u001b[0;34m)\u001b[0m\u001b[0;34m:\u001b[0m\u001b[0;34m\u001b[0m\u001b[0;34m\u001b[0m\u001b[0m\n",
      "\u001b[0;32m/opt/conda/lib/python3.9/site-packages/h5py/_hl/files.py\u001b[0m in \u001b[0;36mmake_fid\u001b[0;34m(name, mode, userblock_size, fapl, fcpl, swmr)\u001b[0m\n\u001b[1;32m    224\u001b[0m         \u001b[0mfid\u001b[0m \u001b[0;34m=\u001b[0m \u001b[0mh5f\u001b[0m\u001b[0;34m.\u001b[0m\u001b[0mcreate\u001b[0m\u001b[0;34m(\u001b[0m\u001b[0mname\u001b[0m\u001b[0;34m,\u001b[0m \u001b[0mh5f\u001b[0m\u001b[0;34m.\u001b[0m\u001b[0mACC_EXCL\u001b[0m\u001b[0;34m,\u001b[0m \u001b[0mfapl\u001b[0m\u001b[0;34m=\u001b[0m\u001b[0mfapl\u001b[0m\u001b[0;34m,\u001b[0m \u001b[0mfcpl\u001b[0m\u001b[0;34m=\u001b[0m\u001b[0mfcpl\u001b[0m\u001b[0;34m)\u001b[0m\u001b[0;34m\u001b[0m\u001b[0;34m\u001b[0m\u001b[0m\n\u001b[1;32m    225\u001b[0m     \u001b[0;32melif\u001b[0m \u001b[0mmode\u001b[0m \u001b[0;34m==\u001b[0m \u001b[0;34m'w'\u001b[0m\u001b[0;34m:\u001b[0m\u001b[0;34m\u001b[0m\u001b[0;34m\u001b[0m\u001b[0m\n\u001b[0;32m--> 226\u001b[0;31m         \u001b[0mfid\u001b[0m \u001b[0;34m=\u001b[0m \u001b[0mh5f\u001b[0m\u001b[0;34m.\u001b[0m\u001b[0mcreate\u001b[0m\u001b[0;34m(\u001b[0m\u001b[0mname\u001b[0m\u001b[0;34m,\u001b[0m \u001b[0mh5f\u001b[0m\u001b[0;34m.\u001b[0m\u001b[0mACC_TRUNC\u001b[0m\u001b[0;34m,\u001b[0m \u001b[0mfapl\u001b[0m\u001b[0;34m=\u001b[0m\u001b[0mfapl\u001b[0m\u001b[0;34m,\u001b[0m \u001b[0mfcpl\u001b[0m\u001b[0;34m=\u001b[0m\u001b[0mfcpl\u001b[0m\u001b[0;34m)\u001b[0m\u001b[0;34m\u001b[0m\u001b[0;34m\u001b[0m\u001b[0m\n\u001b[0m\u001b[1;32m    227\u001b[0m     \u001b[0;32melif\u001b[0m \u001b[0mmode\u001b[0m \u001b[0;34m==\u001b[0m \u001b[0;34m'a'\u001b[0m\u001b[0;34m:\u001b[0m\u001b[0;34m\u001b[0m\u001b[0;34m\u001b[0m\u001b[0m\n\u001b[1;32m    228\u001b[0m         \u001b[0;31m# Open in append mode (read/write).\u001b[0m\u001b[0;34m\u001b[0m\u001b[0;34m\u001b[0m\u001b[0m\n",
      "\u001b[0;32mh5py/_objects.pyx\u001b[0m in \u001b[0;36mh5py._objects.with_phil.wrapper\u001b[0;34m()\u001b[0m\n",
      "\u001b[0;32mh5py/_objects.pyx\u001b[0m in \u001b[0;36mh5py._objects.with_phil.wrapper\u001b[0;34m()\u001b[0m\n",
      "\u001b[0;32mh5py/h5f.pyx\u001b[0m in \u001b[0;36mh5py.h5f.create\u001b[0;34m()\u001b[0m\n",
      "\u001b[0;31mOSError\u001b[0m: Unable to create file (unable to truncate a file which is already open)"
     ]
    }
   ],
   "source": [
    "with NWBHDF5IO('ophys.nwb', 'w') as iov1:\n",
    "    iov1.write(nwbfile)"
   ]
  },
  {
   "cell_type": "markdown",
   "id": "bfb275d3",
   "metadata": {},
   "source": [
    "The code segment below shows you how to read the NWB data you have just written."
   ]
  },
  {
   "cell_type": "code",
   "execution_count": 78,
   "id": "0a8517af",
   "metadata": {},
   "outputs": [
    {
     "name": "stdout",
     "output_type": "stream",
     "text": [
      "{'TwoPhotonSeries': TwoPhotonSeries pynwb.ophys.TwoPhotonSeries at 0x139917909812176\n",
      "Fields:\n",
      "  comments: no comments\n",
      "  conversion: 1.0\n",
      "  data: <HDF5 dataset \"data\": shape (0, 0, 0), type \"|u1\">\n",
      "  description: no description\n",
      "  dimension: <HDF5 dataset \"dimension\": shape (2,), type \"<i8\">\n",
      "  external_file: <StrDataset for HDF5 dataset \"external_file\": shape (2,), type \"|O\">\n",
      "  format: external\n",
      "  imaging_plane: ImagingPlane pynwb.ophys.ImagingPlane at 0x139917909812416\n",
      "Fields:\n",
      "  conversion: 1.0\n",
      "  description: standard\n",
      "  device: Microscope pynwb.device.Device at 0x139917909811792\n",
      "Fields:\n",
      "  description: My two-photon microscope\n",
      "  manufacturer: The best microscope manufacturer\n",
      "\n",
      "  excitation_lambda: 600.0\n",
      "  imaging_rate: 10.0\n",
      "  indicator: GCaMP\n",
      "  location: V1\n",
      "  optical_channel: (\n",
      "    OpticalChannel <class 'pynwb.ophys.OpticalChannel'>\n",
      "  )\n",
      "  unit: meters\n",
      "\n",
      "  rate: 10.0\n",
      "  resolution: -1.0\n",
      "  starting_frame: [0]\n",
      "  starting_time: 0.0\n",
      "  starting_time_unit: seconds\n",
      "  unit: unknown\n",
      "}\n"
     ]
    }
   ],
   "source": [
    "with NWBHDF5IO('ophys.nwb', 'r') as io1:\n",
    "    read_nwbfile = iov1.read()\n",
    "\n",
    "    print(read_nwbfile.acquisition)"
   ]
  },
  {
   "cell_type": "markdown",
   "id": "97320515",
   "metadata": {},
   "source": [
    "Once you are done adding data to this NWB file you can close it (with the changes saved as you have already written to it) by closing the IO you have been using."
   ]
  },
  {
   "cell_type": "code",
   "execution_count": 8,
   "id": "14f68c8b",
   "metadata": {},
   "outputs": [],
   "source": [
    "iov1.close()"
   ]
  }
 ],
 "metadata": {
  "kernelspec": {
   "display_name": "Python 3 (ipykernel)",
   "language": "python",
   "name": "python3"
  },
  "language_info": {
   "codemirror_mode": {
    "name": "ipython",
    "version": 3
   },
   "file_extension": ".py",
   "mimetype": "text/x-python",
   "name": "python",
   "nbconvert_exporter": "python",
   "pygments_lexer": "ipython3",
   "version": "3.9.7"
  }
 },
 "nbformat": 4,
 "nbformat_minor": 5
}
