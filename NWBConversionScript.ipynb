{
 "cells": [
  {
   "cell_type": "markdown",
   "id": "f33a2cdb",
   "metadata": {},
   "source": [
    "# Converting Data To an NWB File Format\n",
    "\n",
    "The following script is meant to demonstrate how to convert data to an NWB file format (a more standardized way of storing raw and processed neuroscience data).\n",
    "\n",
    "The following script is based on the assumption that the following process has been followed:\n",
    "\n",
    "Images have been recorded and scanned correctly with spatial calibration (with a two-photon microscope).\n",
    "\n",
    "The .tiff format files have then been imported and analyzed with suite2p which produces an NWB file.\n",
    "\n",
    "Therefore, the NWB file created can now be loaded and its corresponding metadata can be added by following the script below.\n",
    "\n",
    "# Installation Requirements\n",
    "\n",
    "Prior to being able to do so, it is important to have Python 3.5+ installed on your computer.\n",
    "Once you have python installed, you can install PyNWB by copy/pasting either of the following commands onto your terminal. PyNWB is a python package with enables working with NWB files.\n",
    "\n",
    "\n",
    "\n",
    "pip install pynwb\n",
    "conda install -c conda-forge pynwb\n",
    "\n",
    "# Loading in NWB File Created from Suite2p\n",
    "\n",
    "In order to add relevant metadata information about the NWB file created, you must read the file, add components, and then write back to the file. When loading in the nwb file, the mode constructor must be set to 'a' which indicates that we want to add relevant metadata.\n",
    "\n",
    "Please note that you must include the file path in order to be able to successfully load in the nwb file.\n",
    "Example of sample file path: '/Users/sayeholoumi/Desktop/suite2p/ophys.nwb' if file ophys.nwb was stored in the suite2p folder on the Desktop.\n",
    "\n",
    "The following code segment below indicates how to do so:"
   ]
  },
  {
   "cell_type": "code",
   "execution_count": 1,
   "id": "e66deb82",
   "metadata": {},
   "outputs": [
    {
     "ename": "ImportError",
     "evalue": "dlopen(/Users/sayeholoumi/opt/anaconda3/lib/python3.9/site-packages/h5py/defs.cpython-39-darwin.so, 0x0002): Symbol not found: _H5Pget_fapl_ros3\n  Referenced from: /Users/sayeholoumi/opt/anaconda3/lib/python3.9/site-packages/h5py/defs.cpython-39-darwin.so\n  Expected in: /Users/sayeholoumi/opt/anaconda3/lib/libhdf5.103.dylib",
     "output_type": "error",
     "traceback": [
      "\u001b[0;31m---------------------------------------------------------------------------\u001b[0m",
      "\u001b[0;31mImportError\u001b[0m                               Traceback (most recent call last)",
      "\u001b[0;32m/var/folders/rd/qy12xyt15qn7z45n3wfmvjf40000gn/T/ipykernel_23311/2404360939.py\u001b[0m in \u001b[0;36m<module>\u001b[0;34m\u001b[0m\n\u001b[0;32m----> 1\u001b[0;31m \u001b[0;32mfrom\u001b[0m \u001b[0mpynwb\u001b[0m \u001b[0;32mimport\u001b[0m \u001b[0mNWBHDF5IO\u001b[0m\u001b[0;34m\u001b[0m\u001b[0;34m\u001b[0m\u001b[0m\n\u001b[0m\u001b[1;32m      2\u001b[0m \u001b[0;34m\u001b[0m\u001b[0m\n\u001b[1;32m      3\u001b[0m \u001b[0mio\u001b[0m \u001b[0;34m=\u001b[0m \u001b[0mNWBHDF5IO\u001b[0m\u001b[0;34m(\u001b[0m\u001b[0;34m'/Users/sayeholoumi/Desktop/suite2p/ophysforscript.nwb'\u001b[0m\u001b[0;34m,\u001b[0m \u001b[0mmode\u001b[0m\u001b[0;34m=\u001b[0m\u001b[0;34m'a'\u001b[0m\u001b[0;34m)\u001b[0m\u001b[0;34m\u001b[0m\u001b[0;34m\u001b[0m\u001b[0m\n\u001b[1;32m      4\u001b[0m \u001b[0mnwbfile\u001b[0m \u001b[0;34m=\u001b[0m \u001b[0mio\u001b[0m\u001b[0;34m.\u001b[0m\u001b[0mread\u001b[0m\u001b[0;34m(\u001b[0m\u001b[0;34m)\u001b[0m\u001b[0;34m\u001b[0m\u001b[0;34m\u001b[0m\u001b[0m\n",
      "\u001b[0;32m~/opt/anaconda3/lib/python3.9/site-packages/pynwb/__init__.py\u001b[0m in \u001b[0;36m<module>\u001b[0;34m\u001b[0m\n\u001b[1;32m      6\u001b[0m \u001b[0;32mfrom\u001b[0m \u001b[0mcopy\u001b[0m \u001b[0;32mimport\u001b[0m \u001b[0mdeepcopy\u001b[0m\u001b[0;34m\u001b[0m\u001b[0;34m\u001b[0m\u001b[0m\n\u001b[1;32m      7\u001b[0m \u001b[0;32mfrom\u001b[0m \u001b[0mwarnings\u001b[0m \u001b[0;32mimport\u001b[0m \u001b[0mwarn\u001b[0m\u001b[0;34m\u001b[0m\u001b[0;34m\u001b[0m\u001b[0m\n\u001b[0;32m----> 8\u001b[0;31m \u001b[0;32mimport\u001b[0m \u001b[0mh5py\u001b[0m\u001b[0;34m\u001b[0m\u001b[0;34m\u001b[0m\u001b[0m\n\u001b[0m\u001b[1;32m      9\u001b[0m \u001b[0;34m\u001b[0m\u001b[0m\n\u001b[1;32m     10\u001b[0m \u001b[0;32mfrom\u001b[0m \u001b[0mhdmf\u001b[0m\u001b[0;34m.\u001b[0m\u001b[0mspec\u001b[0m \u001b[0;32mimport\u001b[0m \u001b[0mNamespaceCatalog\u001b[0m\u001b[0;34m\u001b[0m\u001b[0;34m\u001b[0m\u001b[0m\n",
      "\u001b[0;32m~/opt/anaconda3/lib/python3.9/site-packages/h5py/__init__.py\u001b[0m in \u001b[0;36m<module>\u001b[0;34m\u001b[0m\n\u001b[1;32m     31\u001b[0m         \u001b[0;32mraise\u001b[0m\u001b[0;34m\u001b[0m\u001b[0;34m\u001b[0m\u001b[0m\n\u001b[1;32m     32\u001b[0m \u001b[0;34m\u001b[0m\u001b[0m\n\u001b[0;32m---> 33\u001b[0;31m \u001b[0;32mfrom\u001b[0m \u001b[0;34m.\u001b[0m \u001b[0;32mimport\u001b[0m \u001b[0mversion\u001b[0m\u001b[0;34m\u001b[0m\u001b[0;34m\u001b[0m\u001b[0m\n\u001b[0m\u001b[1;32m     34\u001b[0m \u001b[0;34m\u001b[0m\u001b[0m\n\u001b[1;32m     35\u001b[0m \u001b[0;32mif\u001b[0m \u001b[0mversion\u001b[0m\u001b[0;34m.\u001b[0m\u001b[0mhdf5_version_tuple\u001b[0m \u001b[0;34m!=\u001b[0m \u001b[0mversion\u001b[0m\u001b[0;34m.\u001b[0m\u001b[0mhdf5_built_version_tuple\u001b[0m\u001b[0;34m:\u001b[0m\u001b[0;34m\u001b[0m\u001b[0;34m\u001b[0m\u001b[0m\n",
      "\u001b[0;32m~/opt/anaconda3/lib/python3.9/site-packages/h5py/version.py\u001b[0m in \u001b[0;36m<module>\u001b[0;34m\u001b[0m\n\u001b[1;32m     13\u001b[0m \u001b[0;34m\u001b[0m\u001b[0m\n\u001b[1;32m     14\u001b[0m \u001b[0;32mfrom\u001b[0m \u001b[0mcollections\u001b[0m \u001b[0;32mimport\u001b[0m \u001b[0mnamedtuple\u001b[0m\u001b[0;34m\u001b[0m\u001b[0;34m\u001b[0m\u001b[0m\n\u001b[0;32m---> 15\u001b[0;31m \u001b[0;32mfrom\u001b[0m \u001b[0;34m.\u001b[0m \u001b[0;32mimport\u001b[0m \u001b[0mh5\u001b[0m \u001b[0;32mas\u001b[0m \u001b[0m_h5\u001b[0m\u001b[0;34m\u001b[0m\u001b[0;34m\u001b[0m\u001b[0m\n\u001b[0m\u001b[1;32m     16\u001b[0m \u001b[0;32mimport\u001b[0m \u001b[0msys\u001b[0m\u001b[0;34m\u001b[0m\u001b[0;34m\u001b[0m\u001b[0m\n\u001b[1;32m     17\u001b[0m \u001b[0;32mimport\u001b[0m \u001b[0mnumpy\u001b[0m\u001b[0;34m\u001b[0m\u001b[0;34m\u001b[0m\u001b[0m\n",
      "\u001b[0;32mh5py/h5.pyx\u001b[0m in \u001b[0;36minit h5py.h5\u001b[0;34m()\u001b[0m\n",
      "\u001b[0;31mImportError\u001b[0m: dlopen(/Users/sayeholoumi/opt/anaconda3/lib/python3.9/site-packages/h5py/defs.cpython-39-darwin.so, 0x0002): Symbol not found: _H5Pget_fapl_ros3\n  Referenced from: /Users/sayeholoumi/opt/anaconda3/lib/python3.9/site-packages/h5py/defs.cpython-39-darwin.so\n  Expected in: /Users/sayeholoumi/opt/anaconda3/lib/libhdf5.103.dylib"
     ]
    }
   ],
   "source": [
    "from pynwb import NWBHDF5IO\n",
    "\n",
    "io = NWBHDF5IO('/Users/sayeholoumi/Desktop/suite2p/ophysforscript.nwb', mode='a')\n",
    "nwbfile = io.read()"
   ]
  },
  {
   "cell_type": "markdown",
   "id": "fbc74647",
   "metadata": {},
   "source": [
    "Now that you have loaded in the nwb file, you can add in the relevant metadata. Prior to doing so you can\n",
    "check the contents of your nwb file by using print. "
   ]
  },
  {
   "cell_type": "code",
   "execution_count": 2,
   "id": "c80494b3",
   "metadata": {},
   "outputs": [
    {
     "ename": "NameError",
     "evalue": "name 'nwbfile' is not defined",
     "output_type": "error",
     "traceback": [
      "\u001b[0;31m---------------------------------------------------------------------------\u001b[0m",
      "\u001b[0;31mNameError\u001b[0m                                 Traceback (most recent call last)",
      "\u001b[0;32m/var/folders/rd/qy12xyt15qn7z45n3wfmvjf40000gn/T/ipykernel_23311/3451398581.py\u001b[0m in \u001b[0;36m<module>\u001b[0;34m\u001b[0m\n\u001b[0;32m----> 1\u001b[0;31m \u001b[0mprint\u001b[0m\u001b[0;34m(\u001b[0m\u001b[0mnwbfile\u001b[0m\u001b[0;34m)\u001b[0m\u001b[0;34m\u001b[0m\u001b[0;34m\u001b[0m\u001b[0m\n\u001b[0m",
      "\u001b[0;31mNameError\u001b[0m: name 'nwbfile' is not defined"
     ]
    }
   ],
   "source": [
    "print(nwbfile)"
   ]
  },
  {
   "cell_type": "markdown",
   "id": "5bc2c95b",
   "metadata": {},
   "source": [
    "Please note that you can also view the acquired data automatically stored in your NWB file by using the following code segment below:\n",
    "\n",
    "(You can choose not to alter the fields that suite2p has automatically filled it by filling in the same ones throughout the rest of the script)."
   ]
  },
  {
   "cell_type": "code",
   "execution_count": null,
   "id": "0b5229d0",
   "metadata": {},
   "outputs": [],
   "source": [
    "nwbfile.get_acquisition()"
   ]
  },
  {
   "cell_type": "markdown",
   "id": "0109ea8e",
   "metadata": {},
   "source": [
    "# Adding Information to NWB File \n",
    "\n",
    "The first step to storing your metadata for an experiment in an NWB file format is to create an NWB file. An NWB file must have the following three specifications: session description, identifier, and session start time. The following specification are optional: session id, experimenter, lab, institution, and related publications.\n",
    "\n",
    "Below is a sample code segment which shows how one would do so. Note that using print with the nwbfile enables you to view the current specifications of the NWB file which you have set.\n",
    "\n",
    "Note the following parameters required for the specifications:\n",
    "\n",
    "session_description (string): session description of where data was generated\n",
    "identifier (string): information regarding the mouse being experimented\n",
    "session_start_time: takes in a datetime as the start date and time of the experiment\n",
    "datetime(year, month, day, hour=0, minute=0, second=0, microsecond=0)\n",
    "experimenter (string): name of person who carried out the experiment\n",
    "experiment_description (string): description of the experiment\n",
    "lab (string): takes in a string\n",
    "institution: (string)\n",
    "related publications: (string)\n",
    "session_id (string): lab-specific ID for the session\n",
    "notes (stingr) – Notes about the experiment.\n",
    "pharmacology (string) – Description of drugs used, including how and when they were administered. Anesthesia(s), painkiller(s), etc., plus dosage, concentration, etc.\n",
    "protocol (string) – Experimental protocol, if applicable. E.g., include IACUC protocol\n",
    "slices (string) – Description of slices, including information about preparation thickness, orientation, temperature and bath solution\n",
    "data_collection (string) – Notes about data collection and analysis.\n",
    "surgery (string) – Narrative description about surgery/surgeries, including date(s) and who performed surgery.\n",
    "virus (string) – Information about virus(es) used in experiments, including virus ID, source, date made, injection location, volume, etc.\n",
    "stimulus_notes (string) – Notes about stimuli, such as how and where presented."
   ]
  },
  {
   "cell_type": "code",
   "execution_count": 3,
   "id": "8446f65c",
   "metadata": {},
   "outputs": [
    {
     "name": "stdout",
     "output_type": "stream",
     "text": [
      "root pynwb.file.NWBFile at 0x140585696649472\n",
      "Fields:\n",
      "  experimenter: ['My Name']\n",
      "  file_create_date: [datetime.datetime(2022, 2, 2, 11, 37, 9, 372728, tzinfo=tzlocal())]\n",
      "  identifier: Mouse5_Day3\n",
      "  institution: University of My Institution\n",
      "  lab: My Lab Name\n",
      "  related_publications: ['DOI:10.1016/j.neuron.2016.12.011']\n",
      "  session_description: Mouse exploring an open field\n",
      "  session_id: session_1234\n",
      "  session_start_time: 2018-04-25 02:30:03-07:00\n",
      "  timestamps_reference_time: 2018-04-25 02:30:03-07:00\n",
      "\n"
     ]
    }
   ],
   "source": [
    "from pynwb import NWBFile\n",
    "from datetime import datetime\n",
    "from dateutil import tz\n",
    "\n",
    "start_time = datetime(2018, 4, 25, 2, 30, 3, tzinfo=tz.gettz('US/Pacific'))\n",
    "\n",
    "nwbfile = NWBFile(\n",
    "    session_description='Mouse exploring an open field',\n",
    "    identifier='Mouse5_Day3',\n",
    "    session_start_time=start_time,\n",
    "    session_id='session_1234',                                # optional\n",
    "    experimenter='My Name',                                   # optional\n",
    "    lab='My Lab Name',                                        # optional\n",
    "    institution='University of My Institution',               # optional\n",
    "    related_publications='DOI:10.1016/j.neuron.2016.12.011'   # optional\n",
    ")\n",
    "print(nwbfile)\n"
   ]
  },
  {
   "cell_type": "markdown",
   "id": "e6159258",
   "metadata": {},
   "source": [
    "# Subject Information\n",
    "\n",
    "A subject object contains information regarding the subject of the experiment such as its id, age, species, and sex. \n",
    "\n",
    "age (string) – The age of the subject (should be given using the ISO 8601 Duration format. https://en.wikipedia.org/wiki/ISO_8601#Durations)\n",
    "description (string) – A description of the subject\n",
    "genotype (string) – The genotype of the subject, e.g., “Sst-IRES-Cre/wt;Ai32(RCL-ChR2(H134R)_EYFP)/wt”.\n",
    "sex (string) – The sex of the subject should be given as F(female), M(male), U(unknown), and O(other)\n",
    "species (string) – The species of the subject. The formal latin binomal name is recommended, e.g., “Mus musculus”\n",
    "subject_id (string) – A unique identifier for the subject, e.g., “A10”\n",
    "weight (float or string) – The weight can be provided as a string or a number e.g., “0.02 kg”. If a number is provided it needs to be in kilograms.\n",
    "date_of_birth (datetime) – takes in a datetime: datetime(year, month, day, hour=0, minute=0, second=0, microsecond=0)\n",
    "strain (string) – The strain of the subject, e.g., “C57BL/6J”\n",
    " \n",
    "Please note that you are not required to provide information for all of these characteristics of the subject.\n",
    "Below is a sample code segment which shows how one would do so."
   ]
  },
  {
   "cell_type": "code",
   "execution_count": null,
   "id": "d4cf10ea",
   "metadata": {},
   "outputs": [],
   "source": [
    "from pynwb.file import Subject\n",
    "\n",
    "nwbfile.subject = Subject(\n",
    "    subject_id='001',\n",
    "    age='P90D', \n",
    "    description='mouse 5',\n",
    "    species='Mus musculus', \n",
    "    sex='M'\n",
    ")\n"
   ]
  },
  {
   "cell_type": "markdown",
   "id": "9eff2db0",
   "metadata": {},
   "source": [
    "# SpatialSeries and Position (will potentially take out)\n",
    "\n",
    "In order to store the spatial position of the animal, we will need to use the SpatialSeries and Position classes which are specilized classes for these specific purposes in NWB.\n",
    "\n",
    "It can also be used to store the direction of gaze or travel.\n",
    "\n",
    "SpatialSeries is a subclass of TimeSeries (used to record measurements collected over time).\n",
    "\n",
    "The following params that can be stored in a SpatialSeries object.\n",
    "\n",
    "- name(string): name of dataset\n",
    "- data (np.array): data values which can be 1D or 2D. The first dimension must be time. The optional second dimension can be x or y postion. You can use a np.array to create a two dimensional array of time and position.\n",
    "- reference_frame (string): describes reference/zero position\n",
    "- timestamps (np.array): timestamps for samples stored in data\n",
    "- description: description of dataset\n",
    "\n",
    "The code below will demonstrate how to use the SpatialSeries Class:\n",
    "(Note that you can always print an object to view its contents)"
   ]
  },
  {
   "cell_type": "code",
   "execution_count": null,
   "id": "7e6675e6",
   "metadata": {},
   "outputs": [],
   "source": [
    "import numpy as np\n",
    "from pynwb.behavior import SpatialSeries\n",
    "\n",
    "# create fake data with shape (50, 2)\n",
    "# the first dimension should always represent time\n",
    "position_data = np.array([np.linspace(0, 10, 50),\n",
    "                          np.linspace(0, 8, 50)]).T\n",
    "position_timestamps = np.linspace(0, 50) / 200\n",
    "\n",
    "spatial_series_obj = SpatialSeries(\n",
    "    name='SpatialSeries', \n",
    "    description='(x,y) position in open field',\n",
    "    data=position_data,\n",
    "    timestamps=position_timestamps,\n",
    "    reference_frame='(0,0) is bottom left corner'\n",
    ")"
   ]
  },
  {
   "cell_type": "code",
   "execution_count": null,
   "id": "4da1c6ae",
   "metadata": {},
   "outputs": [],
   "source": [
    "print(spatial_series_obj)"
   ]
  },
  {
   "cell_type": "markdown",
   "id": "45585b83",
   "metadata": {},
   "source": [
    "This SpatialSeries object represents the position of the animal and can therefore be stored inside of a position object which can hold multiple SpatialSeries objects."
   ]
  },
  {
   "cell_type": "code",
   "execution_count": null,
   "id": "8eeaa176",
   "metadata": {},
   "outputs": [],
   "source": [
    "from pynwb.behavior import Position\n",
    "\n",
    "position_obj = Position(spatial_series=spatial_series_obj)"
   ]
  },
  {
   "cell_type": "markdown",
   "id": "0975b0eb",
   "metadata": {},
   "source": [
    "NWB differentiates between the storage of raw data (would not change) and processed data (could possibly change and is the result of a preprocessing algorithm). If the animal's position was detected from a video tracking algorithm, it would be classified as processed data. This would require us to create a processing module which acts as a folder for storing processed data (each folder contains data from the same algorithm).\n",
    "\n",
    "The code segment below demonstrates creating a processing module called 'behaviour' for storing behavioural data allowing us to add the Position object previously created."
   ]
  },
  {
   "cell_type": "code",
   "execution_count": 8,
   "id": "2a74a084",
   "metadata": {},
   "outputs": [
    {
     "ename": "NameError",
     "evalue": "name 'position_obj' is not defined",
     "output_type": "error",
     "traceback": [
      "\u001b[0;31m---------------------------------------------------------------------------\u001b[0m",
      "\u001b[0;31mNameError\u001b[0m                                 Traceback (most recent call last)",
      "\u001b[0;32m/var/folders/rd/qy12xyt15qn7z45n3wfmvjf40000gn/T/ipykernel_17233/612184523.py\u001b[0m in \u001b[0;36m<module>\u001b[0;34m\u001b[0m\n\u001b[1;32m      3\u001b[0m     \u001b[0mdescription\u001b[0m\u001b[0;34m=\u001b[0m\u001b[0;34m'processed behavioral data'\u001b[0m\u001b[0;34m\u001b[0m\u001b[0;34m\u001b[0m\u001b[0m\n\u001b[1;32m      4\u001b[0m )\n\u001b[0;32m----> 5\u001b[0;31m \u001b[0mbehavior_module\u001b[0m\u001b[0;34m.\u001b[0m\u001b[0madd\u001b[0m\u001b[0;34m(\u001b[0m\u001b[0mposition_obj\u001b[0m\u001b[0;34m)\u001b[0m\u001b[0;34m\u001b[0m\u001b[0;34m\u001b[0m\u001b[0m\n\u001b[0m",
      "\u001b[0;31mNameError\u001b[0m: name 'position_obj' is not defined"
     ]
    }
   ],
   "source": [
    "behavior_module = nwbfile.create_processing_module(\n",
    "    name='behavior', \n",
    "    description='processed behavioral data'\n",
    ")\n",
    "behavior_module.add(position_obj)"
   ]
  },
  {
   "cell_type": "markdown",
   "id": "21f2932a",
   "metadata": {},
   "source": [
    "# Writing Metadata Back to NWB File\n",
    "\n",
    "You can now write the NWB file with the information you have provided so far.\n",
    "\n",
    "The following code segment enables you to write the information above as an io which is then converted to an NWB file."
   ]
  },
  {
   "cell_type": "code",
   "execution_count": 4,
   "id": "221996b0",
   "metadata": {},
   "outputs": [],
   "source": [
    "io.write(nwbfile)"
   ]
  },
  {
   "cell_type": "markdown",
   "id": "4723b39e",
   "metadata": {},
   "source": [
    "We can then read the file and print it to check the information we provided. \n",
    "\n",
    "For example, to print the SpatialSeries data, we need to consider that the object is within the Position object which is contained in the processing module we created called 'behaviour'."
   ]
  },
  {
   "cell_type": "code",
   "execution_count": 7,
   "id": "dc9064b6",
   "metadata": {},
   "outputs": [
    {
     "ename": "KeyError",
     "evalue": "'behavior'",
     "output_type": "error",
     "traceback": [
      "\u001b[0;31m---------------------------------------------------------------------------\u001b[0m",
      "\u001b[0;31mKeyError\u001b[0m                                  Traceback (most recent call last)",
      "\u001b[0;32m/var/folders/rd/qy12xyt15qn7z45n3wfmvjf40000gn/T/ipykernel_17233/51618829.py\u001b[0m in \u001b[0;36m<module>\u001b[0;34m\u001b[0m\n\u001b[1;32m      1\u001b[0m \u001b[0;32mwith\u001b[0m \u001b[0mNWBHDF5IO\u001b[0m\u001b[0;34m(\u001b[0m\u001b[0;34m'ophys_tutorial.nwb'\u001b[0m\u001b[0;34m,\u001b[0m \u001b[0;34m'r'\u001b[0m\u001b[0;34m)\u001b[0m \u001b[0;32mas\u001b[0m \u001b[0mio\u001b[0m\u001b[0;34m:\u001b[0m\u001b[0;34m\u001b[0m\u001b[0;34m\u001b[0m\u001b[0m\n\u001b[1;32m      2\u001b[0m     \u001b[0mread_nwbfile\u001b[0m \u001b[0;34m=\u001b[0m \u001b[0mio\u001b[0m\u001b[0;34m.\u001b[0m\u001b[0mread\u001b[0m\u001b[0;34m(\u001b[0m\u001b[0;34m)\u001b[0m\u001b[0;34m\u001b[0m\u001b[0;34m\u001b[0m\u001b[0m\n\u001b[0;32m----> 3\u001b[0;31m     \u001b[0mprint\u001b[0m\u001b[0;34m(\u001b[0m\u001b[0mread_nwbfile\u001b[0m\u001b[0;34m.\u001b[0m\u001b[0mprocessing\u001b[0m\u001b[0;34m[\u001b[0m\u001b[0;34m'behavior'\u001b[0m\u001b[0;34m]\u001b[0m\u001b[0;34m[\u001b[0m\u001b[0;34m'Position'\u001b[0m\u001b[0;34m]\u001b[0m\u001b[0;34m[\u001b[0m\u001b[0;34m'SpatialSeries'\u001b[0m\u001b[0;34m]\u001b[0m\u001b[0;34m)\u001b[0m\u001b[0;34m\u001b[0m\u001b[0;34m\u001b[0m\u001b[0m\n\u001b[0m\u001b[1;32m      4\u001b[0m \u001b[0;34m\u001b[0m\u001b[0m\n",
      "\u001b[0;32m~/opt/anaconda3/lib/python3.9/site-packages/hdmf/utils.py\u001b[0m in \u001b[0;36m__getitem__\u001b[0;34m(self, args)\u001b[0m\n\u001b[1;32m    930\u001b[0m                 \u001b[0;32mreturn\u001b[0m \u001b[0msuper\u001b[0m\u001b[0;34m(\u001b[0m\u001b[0;34m)\u001b[0m\u001b[0;34m.\u001b[0m\u001b[0m__getitem__\u001b[0m\u001b[0;34m(\u001b[0m\u001b[0mval\u001b[0m\u001b[0;34m)\u001b[0m\u001b[0;34m\u001b[0m\u001b[0;34m\u001b[0m\u001b[0m\n\u001b[1;32m    931\u001b[0m         \u001b[0;32melse\u001b[0m\u001b[0;34m:\u001b[0m\u001b[0;34m\u001b[0m\u001b[0;34m\u001b[0m\u001b[0m\n\u001b[0;32m--> 932\u001b[0;31m             \u001b[0;32mreturn\u001b[0m \u001b[0msuper\u001b[0m\u001b[0;34m(\u001b[0m\u001b[0;34m)\u001b[0m\u001b[0;34m.\u001b[0m\u001b[0m__getitem__\u001b[0m\u001b[0;34m(\u001b[0m\u001b[0mkey\u001b[0m\u001b[0;34m)\u001b[0m\u001b[0;34m\u001b[0m\u001b[0;34m\u001b[0m\u001b[0m\n\u001b[0m\u001b[1;32m    933\u001b[0m \u001b[0;34m\u001b[0m\u001b[0m\n\u001b[1;32m    934\u001b[0m     \u001b[0;32mdef\u001b[0m \u001b[0m__setitem__\u001b[0m\u001b[0;34m(\u001b[0m\u001b[0mself\u001b[0m\u001b[0;34m,\u001b[0m \u001b[0mkey\u001b[0m\u001b[0;34m,\u001b[0m \u001b[0mvalue\u001b[0m\u001b[0;34m)\u001b[0m\u001b[0;34m:\u001b[0m\u001b[0;34m\u001b[0m\u001b[0;34m\u001b[0m\u001b[0m\n",
      "\u001b[0;31mKeyError\u001b[0m: 'behavior'"
     ]
    }
   ],
   "source": []
  },
  {
   "cell_type": "markdown",
   "id": "71ef19d9",
   "metadata": {},
   "source": [
    "# Trials\n",
    "\n",
    "Trials are stored in a TimeIntervals object which is a subclass of DynamicTable. DynamicTable objects are used to store tabular metadata such as for trials and electrodes. They allow for required, optional, and custom columns.\n",
    "\n",
    "An NWB file only requires trial start time and end time; however, additional columns can be added using add_trial_column.\n",
    "\n",
    "The following code segment demonstrates how to do so with an example column created called 'correct'."
   ]
  },
  {
   "cell_type": "code",
   "execution_count": null,
   "id": "09980bb3",
   "metadata": {},
   "outputs": [],
   "source": [
    "nwbfile.add_trial_column(name='correct', description='whether the trial was correct')\n",
    "nwbfile.add_trial(start_time=1.0, stop_time=5.0, correct=True)\n",
    "nwbfile.add_trial(start_time=6.0, stop_time=10.0, correct=False)"
   ]
  },
  {
   "cell_type": "markdown",
   "id": "f9b23e02",
   "metadata": {},
   "source": [
    "You can view the above information in the form of a table by converting it to a pandas dataframe:"
   ]
  },
  {
   "cell_type": "code",
   "execution_count": null,
   "id": "d6fb715f",
   "metadata": {},
   "outputs": [],
   "source": [
    "nwbfile.trials.to_dataframe()"
   ]
  },
  {
   "cell_type": "markdown",
   "id": "55cab5e9",
   "metadata": {},
   "source": [
    "# Writing Optical Physiology Results:\n",
    "\n",
    "1) Creating an imaging plane\n",
    "2) Add acquired two-photon images\n",
    "3) Add image segmentation\n",
    "4) Add fluorescence and dF/F responses\n",
    "\n",
    "## Imaging Plane \n",
    "\n",
    "An Imaging Plan object will contain information regarding the area and method used to called imaging data. This requires making a Device and OpticalChannel object for the microscope.\n",
    "\n",
    "First, we must create an ImagingPlane object, which will hold information about the area and method used to collect the optical imaging data. This first requires creation of a Device object for the microscope and an OpticalChannel object.\n",
    "\n",
    "Parameters for creating an imaging plane object:\n",
    "name (string) – the name of this container\n",
    "optical_channel (list or OpticalChannel) – One of possibly many groups storing channel-specific data.\n",
    "description (string) – description of this ImagingPlane.\n",
    "device (Device) – the device that was used to record\n",
    "excitation_lambda (float) – Excitation wavelength in nm.\n",
    "indicator (string) – calcium indicator\n",
    "location (string) – Location of image plane.\n",
    "imaging_rate (float) – Rate images are acquired, in Hz. If the corresponding TimeSeries is present, the rate should be stored there instead.\n",
    "reference_frame (string) – Describes position and reference frame of manifold based on position of first element in manifold.\n",
    "origin_coords (ndarray or list) – Physical location of the first element of the imaging plane (0, 0) for 2-D data or (0, 0, 0) for 3-D data. See also reference_frame for what the physical location is relative to (e.g., bregma)\n",
    "origin_coords_unit (str) – Measurement units for origin_coords. The default value is ‘meters’.\n",
    "grid_spacing (ndarray or list) – Space between pixels in (x, y) or voxels in (x, y, z) directions, in the specified unit. Assumes imaging plane is a regular grid. See also reference_frame to interpret the grid.\n",
    "grid_spacing_unit (str) – Measurement units for grid_spacing. The default value is ‘meters’.\n",
    "\n",
    "Parameters for creating an optical channel object:\n",
    "name (string) – the name of this electrode\n",
    "description (string) – Any notes or comments about the channel.\n",
    "emission_lambda (float) – Emission wavelength for channel, in nm.\n",
    "\n",
    "\n",
    "Parameters for creating a device object:\n",
    "name (string) – the name of this device\n",
    "description (string) – Description of the device (e.g., model, firmware version, processing software version, etc.)\n",
    "manufacturer (string) – the name of the manufacturer of this device\n"
   ]
  },
  {
   "cell_type": "code",
   "execution_count": null,
   "id": "b80b557f",
   "metadata": {},
   "outputs": [],
   "source": [
    "\n",
    "from pynwb.device import Device\n",
    "from pynwb.ophys import OpticalChannel\n",
    "\n",
    "device = nwbfile.create_device(\n",
    "    name='Microscope', \n",
    "    description='My two-photon microscope',\n",
    "    manufacturer='The best microscope manufacturer'\n",
    ")\n",
    "\n",
    "optical_channel = OpticalChannel(\n",
    "    name='OpticalChannel', \n",
    "    description='an optical channel', \n",
    "    emission_lambda=500.\n",
    ")\n",
    "\n",
    "imaging_plane = nwbfile.create_imaging_plane(\n",
    "    name='ImagingPlane',\n",
    "    optical_channel=optical_channel,\n",
    "    imaging_rate=30.,\n",
    "    description='a very interesting part of the brain',\n",
    "    device=device,\n",
    "    excitation_lambda=600.,\n",
    "    indicator='GFP',\n",
    "    location='V1',\n",
    "    grid_spacing=[.01, .01],\n",
    "    grid_spacing_unit='meters',\n",
    "    origin_coords=[1, 2, 3],\n",
    "    origin_coords_unit='meters'\n",
    ")\n",
    "\n"
   ]
  },
  {
   "cell_type": "markdown",
   "id": "723a26fa",
   "metadata": {},
   "source": [
    "# Two Photon Series\n",
    "\n",
    "Now that you have recorded the imaging plane, we can create a TwoPhotonSeriesObject to store our raw 2-photon imaging data. You can either provide raw data to PyNWB or provide a path to the image files.\n",
    "\n",
    "Here, we have two options. The first option is to supply the raw image data to PyNWB, using the data argument. The other option is the provide a path to the image files. These two options have trade-offs, so it is worth spending time considering how you want to store this data.\n",
    "\n",
    "name (string) – the name of this time series dataset\n",
    "imaging_plane (ImagingPlane) – the imaging plane (previously created with the code above)\n",
    "data (ndarray or list or tuple or Dataset or StrDataset or HDMFDataset or AbstractDataChunkIterator or DataIO or TimeSeries) – The data values. Can be 3D or 4D. The first dimension must be time (frame). The second and third dimensions represent x and y. The optional fourth dimension represents z. Either data or external_file must be specified (not None), but not both. If data is not specified, data will be set to an empty 3D array.\n",
    "unit (string) – the unit of measurement of the image data, e.g., values between 0 and 255. Please fill out this parameter when you have specified the data.\n",
    "format (string) – Format of image. Three types: 1) Image format; tiff, png, jpg, etc. 2) external 3) raw\n",
    "pmt_gain (float) – Photomultiplier gain.\n",
    "scan_line_rate (float) – Lines imaged per second\n",
    "external_file (ndarray or list or DataIO) – Path or URL to one or more external file(s). You can only required to fill out this field if you are using external data. Please do not fill out this field if you are already filling out the data field.\n",
    "resolution (string or float) – The smallest meaningful difference (in specified unit) between values in data\n",
    "conversion (string or float) – Scalar to multiply each element in data to convert it to the specified unit\n",
    "timestamps (ndarray or list or DataIO or TimeSeries) – Timestamps for samples stored in data\n",
    "starting_time (float) – The timestamp of the first sample\n",
    "rate (float) – Sampling rate in Hz\n",
    "comments (string) – Human-readable comments about this TimeSeries dataset\n",
    "description (string) – Description of this TimeSeries dataset\n",
    "\n",
    "The following code segment will show you both options but it is up to you to decide your preference."
   ]
  },
  {
   "cell_type": "code",
   "execution_count": null,
   "id": "a833bc50",
   "metadata": {},
   "outputs": [],
   "source": [
    "from pynwb.ophys import TwoPhotonSeries\n",
    "\n",
    "# using internal data. this data will be stored inside the NWB file\n",
    "image_series1 = TwoPhotonSeries(\n",
    "    name='TwoPhotonSeries1',\n",
    "    data=np.ones((1000,100,100)),\n",
    "    imaging_plane=imaging_plane,\n",
    "    rate=1.0,\n",
    "    unit='normalized amplitude'\n",
    ")\n",
    "\n",
    "# using external data. just the file paths will be stored inside the NWB file\n",
    "image_series2 = TwoPhotonSeries(\n",
    "    name='TwoPhotonSeries2', \n",
    "    dimension=[100,100],\n",
    "    external_file=['images.tiff'], \n",
    "    imaging_plane=imaging_plane,\n",
    "    starting_frame=[0], \n",
    "    format='external', \n",
    "    starting_time=0.0, \n",
    "    rate=1.0\n",
    ")\n",
    "\n"
   ]
  },
  {
   "cell_type": "markdown",
   "id": "0b5a4f65",
   "metadata": {},
   "source": [
    "The information above are acquired data and so do not need to be put in a processing module. They can be added to the file as acquired data as shown in the code segment below:p"
   ]
  },
  {
   "cell_type": "code",
   "execution_count": null,
   "id": "d004a1a1",
   "metadata": {},
   "outputs": [],
   "source": [
    "nwbfile.add_acquisition(image_series1)\n",
    "nwbfile.add_acquisition(image_series2)\n"
   ]
  },
  {
   "cell_type": "markdown",
   "id": "692af668",
   "metadata": {},
   "source": [
    "# Plane Segmentation\n",
    "\n",
    "Plane segmentation allows you to store the detected regions of interest in the TwoPhotonSeries data. Each row in a plane segmentation object represents one region of interest.\n",
    "\n",
    "This can be done so by creating an ImageSegmentation object and then creating a PlaneSegmentation table with a link to the imaging plane you already created. You can then create a new ProcessingModule to store optical physiology data and add ImageSegmentation to it. This is similar to how the SpatialSeries object was stored instead a Position object which was stored in a ProcessingModule called 'behavior' earlier in the script.\n",
    "\n",
    "The first parameter below (ps) is the plane segmentation object which is added to the image segmentation object (img_seg).\n",
    "\n",
    "Below are the parameters that can be written to the plane segmentation object:\n",
    "description (string) – Description of image plane, recording wavelength, depth, etc.\n",
    "imaging_plane (ImagingPlane) – the ImagingPlane this ROI applies to (you can use the ImagingPlane object previously created)\n",
    "name (string) – name of PlaneSegmentation\n",
    "reference_images (ImageSeries) – One or more image stacks that the masks apply to (you can use the ImageSeries objects previously created for this parameter)\n",
    "id (ndarray or list or DataIO) – the identifiers for this table\n",
    "columns (list) – the columns in this table\n",
    "colnames (ndarray or list) – the ordered names of the columns in this table. columns must also be provided.\n"
   ]
  },
  {
   "cell_type": "code",
   "execution_count": null,
   "id": "0e3869ee",
   "metadata": {},
   "outputs": [],
   "source": [
    "from pynwb.ophys import ImageSegmentation\n",
    "\n",
    "img_seg = ImageSegmentation()\n",
    "ps = img_seg.create_plane_segmentation(\n",
    "    name='PlaneSegmentation',\n",
    "    description='output from segmenting my favorite imaging plane',\n",
    "    imaging_plane=imaging_plane,\n",
    "    reference_images=image_series1  # optional\n",
    ")\n",
    "ophys_module = nwbfile.create_processing_module(\n",
    "    name='ophys', \n",
    "    description='optical physiology processed data'\n",
    ")\n",
    "ophys_module.add(img_seg)\n"
   ]
  },
  {
   "cell_type": "markdown",
   "id": "fcd6e8be",
   "metadata": {},
   "source": [
    "## Regions Of Interest (ROIs) (pixel mask vs image mask preference?)\n",
    "\n",
    "You can add regions of interest to the plane segmentation table using an image or pixel mask. An image mask in an array that is the same size as a frame of the TwoPhotonSeries and indicates the mask weight of each pixel. Image mask values may be a boolean or a value between 0 and 1.\n",
    "\n",
    "Image masks\n",
    "You may add ROIs to the PlaneSegmentation table using an image mask or a pixel mask. An image mask is an array that is the same size as a single frame of the TwoPhotonSeries that indicates the mask weight of each pixel in the image. Image mask values (weights) may be boolean or continuous between 0 and 1.\n",
    "\n",
    "Note that the size of the image_mask should match the dimension parameter previously defined when created the two photon series objects.\n",
    "\n",
    "The following code segment should how to define an image_mask and how to add it to the plane segmentation object created using add_roi. You can visually see one of the image masks as well."
   ]
  },
  {
   "cell_type": "code",
   "execution_count": null,
   "id": "ebe131cb",
   "metadata": {},
   "outputs": [],
   "source": [
    "for _ in range(30):\n",
    "    image_mask = np.zeros((100, 100))\n",
    "    \n",
    "    # randomly generate example image masks\n",
    "    x = np.random.randint(0, 95)\n",
    "    y = np.random.randint(0, 95)\n",
    "    image_mask[x:x+5, y:y+5] = 1\n",
    "    \n",
    "    # add image mask to plane segmentation\n",
    "    ps.add_roi(image_mask=image_mask)\n",
    "    \n",
    "# show one of the image masks\n",
    "import matplotlib.pyplot as plt\n",
    "plt.imshow(image_mask)"
   ]
  },
  {
   "cell_type": "markdown",
   "id": "79b50a8b",
   "metadata": {},
   "source": [
    "We can view the PlaneSegmentation table with pixel masks in tabular form by converting it to a pandas dataframe.\n",
    "You can view the PlaneSegmentation table created with image masks by converting it to a panda dataframe."
   ]
  },
  {
   "cell_type": "code",
   "execution_count": null,
   "id": "ef7980fe",
   "metadata": {},
   "outputs": [],
   "source": [
    "ps.to_dataframe()"
   ]
  },
  {
   "cell_type": "markdown",
   "id": "c6fa4abd",
   "metadata": {},
   "source": [
    "## Storing Fluorescence Measurements\n",
    "\n",
    "Now that you have stored ROIs, you can store the relevant fluorescence data by using the ROIResponseSeries and Fluorescence classes. An ROIResponseSeries object represents fluoresence data and will be stored inside a Fluorescence object. This fluorescence object will be placed inside the 'ophys' processing module we created earlier as it is a processed form of data.\n",
    "\n",
    "The first step is to create an RoiResponseSeries object. It is important to reference the rows from the PlaneSegmentation table to show the correspondance between the two. The DynamicTableRegion is a link which allows you to reference rows from the PlaneSegmentation table as it is itself a dynamic table by using row indices; the function that enables this link is create_roi_table_region.\n",
    "\n",
    "The following parameters are needed for the function:\n",
    "description (string) – a description of what the region is/represents\n",
    "region (list) – the indices of the table\n",
    "name (string) – the name of the ROITableRegion\n",
    "\n",
    "The code segment play displays how to create a link to the first two rows.\n"
   ]
  },
  {
   "cell_type": "code",
   "execution_count": null,
   "id": "52e10ee2",
   "metadata": {},
   "outputs": [],
   "source": [
    "rt_region = ps.create_roi_table_region(\n",
    "    region=[0,1],\n",
    "    description='the first of two ROIs'\n",
    ")\n"
   ]
  },
  {
   "cell_type": "markdown",
   "id": "3a81b262",
   "metadata": {},
   "source": [
    "Upon doing so, you can now create an ROIResponseSeries object to store the fluorescence data for the rows referenced above.\n",
    "\n",
    "name (string) – The name of this TimeSeries dataset\n",
    "data (ndarray or list or tuple or DatasetDataIO or TimeSeries) – The data values for flurescence. May be 1D or 2D. The first dimension must be time. The optional second dimension represents ROIs\n",
    "unit (string) – The base unit of measurement (should be SI unit)\n",
    "rois (DynamicTableRegion) – a table region corresponding to the ROIs that were used to generate this data (made in the code segment above)\n",
    "resolution (string or float) – The smallest meaningful difference (in specified unit) between values in data\n",
    "conversion (string or float) – Scalar to multiply each element in data to convert it to the specified unit\n",
    "timestamps (ndarray or list or tuple or Dataset or StrDataset or HDMFDataset or AbstractDataChunkIterator or DataIO or TimeSeries) – Timestamps for samples stored in data\n",
    "starting_time (float) – The timestamp of the first sample\n",
    "rate (float) – sampling rate in Hz\n",
    "comments (str) – comments about this TimeSeries dataset\n",
    "description (string) – description of this TimeSeries dataset"
   ]
  },
  {
   "cell_type": "code",
   "execution_count": null,
   "id": "1f2b0bb3",
   "metadata": {},
   "outputs": [],
   "source": [
    "from pynwb.ophys import RoiResponseSeries\n",
    "\n",
    "roi_resp_series = RoiResponseSeries(\n",
    "    name='RoiResponseSeries',\n",
    "    data=np.ones((50,2)),  # 50 samples, 2 rois\n",
    "    rois=rt_region,\n",
    "    unit='lumens',\n",
    "    rate=30.\n",
    ")"
   ]
  },
  {
   "cell_type": "markdown",
   "id": "972f8e31",
   "metadata": {},
   "source": [
    "Now that you have created the ROIResponseSeries, you can store it inside the fluorescence object which you can place inside the processing module you previously created."
   ]
  },
  {
   "cell_type": "code",
   "execution_count": null,
   "id": "6ab447a5",
   "metadata": {},
   "outputs": [],
   "source": [
    "from pynwb.ophys import Fluorescence\n",
    "\n",
    "fl = Fluorescence(roi_response_series=roi_resp_series)\n",
    "ophys_module.add(fl)"
   ]
  },
  {
   "cell_type": "markdown",
   "id": "a67d01f5",
   "metadata": {},
   "source": [
    "You can now write the changes you made back to the nwbfile."
   ]
  },
  {
   "cell_type": "code",
   "execution_count": null,
   "id": "eb45b307",
   "metadata": {},
   "outputs": [],
   "source": [
    "with NWBHDF5IO('ophys_tutorial.nwb', 'w') as io:\n",
    "    io.write(nwbfile)"
   ]
  },
  {
   "cell_type": "markdown",
   "id": "bfb275d3",
   "metadata": {},
   "source": [
    "The code segment below shows you how to read the NWB data you have just written."
   ]
  },
  {
   "cell_type": "code",
   "execution_count": null,
   "id": "0a8517af",
   "metadata": {},
   "outputs": [],
   "source": [
    "with NWBHDF5IO('ophys_tutorial.nwb', 'r') as io:\n",
    "    read_nwbfile = io.read()\n",
    "\n",
    "    print(read_nwbfile.acquisition['TwoPhotonSeries1'])\n",
    "    print(read_nwbfile.processing['ophys']['Fluorescence']['RoiResponseSeries'].data[0:10, 0])"
   ]
  },
  {
   "cell_type": "markdown",
   "id": "97320515",
   "metadata": {},
   "source": [
    "Once you are done adding data to this NWB file you can close it (with the changes saved as you have already written to it) by closing the IO you have been using."
   ]
  },
  {
   "cell_type": "code",
   "execution_count": null,
   "id": "14f68c8b",
   "metadata": {},
   "outputs": [],
   "source": [
    "io.close()"
   ]
  }
 ],
 "metadata": {
  "kernelspec": {
   "display_name": "Python 3 (ipykernel)",
   "language": "python",
   "name": "python3"
  },
  "language_info": {
   "codemirror_mode": {
    "name": "ipython",
    "version": 3
   },
   "file_extension": ".py",
   "mimetype": "text/x-python",
   "name": "python",
   "nbconvert_exporter": "python",
   "pygments_lexer": "ipython3",
   "version": "3.9.7"
  }
 },
 "nbformat": 4,
 "nbformat_minor": 5
}
