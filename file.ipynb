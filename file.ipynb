{
  "cells": [
    {
      "cell_type": "code",
      "execution_count": null,
      "metadata": {
        "collapsed": false
      },
      "outputs": [],
      "source": [
        "%matplotlib inline"
      ]
    },
    {
      "cell_type": "markdown",
      "metadata": {},
      "source": [
        "\n\n# NWB basics\n\nThis example will focus on the basics of working with an :py:class:`~pynwb.file.NWBFile` object,\nincluding writing and reading of an NWB file.\n"
      ]
    },
    {
      "cell_type": "markdown",
      "metadata": {},
      "source": [
        "## The NWB file\n\n\n"
      ]
    },
    {
      "cell_type": "code",
      "execution_count": null,
      "metadata": {
        "collapsed": false
      },
      "outputs": [],
      "source": [
        "from datetime import datetime\nfrom dateutil.tz import tzlocal\nfrom pynwb import NWBFile\nimport numpy as np\n\nstart_time = datetime(2017, 4, 3, 11, tzinfo=tzlocal())\ncreate_date = datetime(2017, 4, 15, 12, tzinfo=tzlocal())\n\nnwbfile = NWBFile(session_description='demonstrate NWBFile basics',  # required\n                  identifier='NWB123',  # required\n                  session_start_time=start_time,  # required\n                  file_create_date=create_date)  # optional"
      ]
    },
    {
      "cell_type": "markdown",
      "metadata": {},
      "source": [
        "\n## Time series data\n\nPyNWB stores time series data using the :py:class:`~pynwb.base.TimeSeries` class and its subclasses.\nThe main components of a :py:class:`~pynwb.base.TimeSeries` are the *data* and the *timestamps*.\nYou will also need to supply the name and unit of measurement for *data*.\n\n"
      ]
    },
    {
      "cell_type": "code",
      "execution_count": null,
      "metadata": {
        "collapsed": false
      },
      "outputs": [],
      "source": [
        "from pynwb import TimeSeries\n\ndata = list(range(100, 200, 10))\ntimestamps = list(range(10))\ntest_ts = TimeSeries(name='test_timeseries', data=data, unit='m', timestamps=timestamps)"
      ]
    },
    {
      "cell_type": "markdown",
      "metadata": {},
      "source": [
        "Alternatively, if your recordings are sampled at a uniform rate, you can supply *starting_time*\nand *rate*.\n\n"
      ]
    },
    {
      "cell_type": "code",
      "execution_count": null,
      "metadata": {
        "collapsed": false
      },
      "outputs": [],
      "source": [
        "rate_ts = TimeSeries(name='test_timeseries', data=data, unit='m', starting_time=0.0, rate=1.0)"
      ]
    },
    {
      "cell_type": "markdown",
      "metadata": {},
      "source": [
        "Using this scheme says that this :py:class:`~pynwb.base.TimeSeries` started recording 0 seconds after\n*start_time* stored in the :py:class:`~pynwb.file.NWBFile` and sampled every second.\n\n:py:class:`~pynwb.base.TimeSeries` objects can be added directly to your :py:class:`~pynwb.file.NWBFile` using\nthe methods :py:meth:`~pynwb.file.NWBFile.add_acquisition`, :py:meth:`~pynwb.file.NWBFile.add_stimulus`\nand :py:meth:`~pynwb.file.NWBFile.add_stimulus_template`. Which method you use depends on the source of the\ndata: use :py:meth:`~pynwb.file.NWBFile.add_acquisition` to indicated *acquisition* data,\n:py:meth:`~pynwb.file.NWBFile.add_stimulus` to indicate *stimulus* data, and\n:py:meth:`~pynwb.file.NWBFile.add_stimulus_template` to store stimulus templates.\n\n"
      ]
    },
    {
      "cell_type": "code",
      "execution_count": null,
      "metadata": {
        "collapsed": false
      },
      "outputs": [],
      "source": [
        "nwbfile.add_acquisition(test_ts)"
      ]
    },
    {
      "cell_type": "markdown",
      "metadata": {},
      "source": [
        "Access the :py:class:`~pynwb.base.TimeSeries` object `'test_timeseries'` from *acquisition* using\n\n"
      ]
    },
    {
      "cell_type": "code",
      "execution_count": null,
      "metadata": {
        "collapsed": false
      },
      "outputs": [],
      "source": [
        "nwbfile.acquisition['test_timeseries']"
      ]
    },
    {
      "cell_type": "markdown",
      "metadata": {},
      "source": [
        "or\n\n"
      ]
    },
    {
      "cell_type": "code",
      "execution_count": null,
      "metadata": {
        "collapsed": false
      },
      "outputs": [],
      "source": [
        "nwbfile.get_acquisition('test_timeseries')"
      ]
    },
    {
      "cell_type": "markdown",
      "metadata": {},
      "source": [
        "\n## Writing an NWB file\n\nNWB I/O is carried out using the :py:class:`~pynwb.NWBHDF5IO` class [#]_. This class is responsible\nfor mapping an :py:class:`~pynwb.file.NWBFile` object into HDF5 according to the NWB schema.\n\nTo write an :py:class:`~pynwb.file.NWBFile`, use the :py:meth:`~hdmf.backends.io.HDMFIO.write` method.\n\n"
      ]
    },
    {
      "cell_type": "code",
      "execution_count": null,
      "metadata": {
        "collapsed": false
      },
      "outputs": [],
      "source": [
        "from pynwb import NWBHDF5IO\n\nio = NWBHDF5IO('example_file_path.nwb', mode='w')\nio.write(nwbfile)\nio.close()"
      ]
    },
    {
      "cell_type": "markdown",
      "metadata": {},
      "source": [
        "You can also use :py:meth:`~pynwb.NWBHDF5IO` as a context manager:\n\n"
      ]
    },
    {
      "cell_type": "code",
      "execution_count": null,
      "metadata": {
        "collapsed": false
      },
      "outputs": [],
      "source": [
        "with NWBHDF5IO('example_file_path.nwb', 'w') as io:\n    io.write(nwbfile)"
      ]
    },
    {
      "cell_type": "markdown",
      "metadata": {},
      "source": [
        "\n## Reading an NWB file\n\nAs with writing, reading is also carried out using the :py:class:`~pynwb.NWBHDF5IO` class.\nTo read the NWB file we just wrote, use another :py:class:`~pynwb.NWBHDF5IO` object,\nand use the :py:meth:`~hdmf.backends.io.HDMFIO.read` method to retrieve an\n:py:class:`~pynwb.file.NWBFile` object.\n\n"
      ]
    },
    {
      "cell_type": "code",
      "execution_count": null,
      "metadata": {
        "collapsed": false
      },
      "outputs": [],
      "source": [
        "io = NWBHDF5IO('example_file_path.nwb', 'r')\nnwbfile_in = io.read()"
      ]
    },
    {
      "cell_type": "markdown",
      "metadata": {},
      "source": [
        "\n## Retrieving data from an NWB file\n\n"
      ]
    },
    {
      "cell_type": "code",
      "execution_count": null,
      "metadata": {
        "collapsed": false
      },
      "outputs": [],
      "source": [
        "test_timeseries_in = nwbfile_in.acquisition['test_timeseries']\nprint(test_timeseries_in)"
      ]
    },
    {
      "cell_type": "markdown",
      "metadata": {},
      "source": [
        "::\n\n   test_timeseries <class 'pynwb.base.TimeSeries'>\n   Fields:\n     comments: no comments\n     conversion: 1.0\n     data: <HDF5 dataset \"data\": shape (10,), type \"<i8\">\n     description: no description\n     interval: 1\n     resolution: 0.0\n     timestamps: <HDF5 dataset \"timestamps\": shape (10,), type \"<f8\">\n     timestamps_unit: Seconds\n     unit: SIunit\n\n"
      ]
    },
    {
      "cell_type": "markdown",
      "metadata": {},
      "source": [
        "Accessing the data field, you will notice that it does not return the data values, but instead an HDF5 dataset.\n\n"
      ]
    },
    {
      "cell_type": "code",
      "execution_count": null,
      "metadata": {
        "collapsed": false
      },
      "outputs": [],
      "source": [
        "print(test_timeseries_in.data)"
      ]
    },
    {
      "cell_type": "markdown",
      "metadata": {},
      "source": [
        "::\n\n  <HDF5 dataset \"data\": shape (10,), type \"<i8\">\n\nThis object lets you only read in a section of the dataset without reading the entire thing.\n\n"
      ]
    },
    {
      "cell_type": "code",
      "execution_count": null,
      "metadata": {
        "collapsed": false
      },
      "outputs": [],
      "source": [
        "print(test_timeseries_in.data[:2])"
      ]
    },
    {
      "cell_type": "markdown",
      "metadata": {},
      "source": [
        "::\n\n  [100 110]\n\nTo load the entire dataset, use `[:]`.\n\n"
      ]
    },
    {
      "cell_type": "code",
      "execution_count": null,
      "metadata": {
        "collapsed": false
      },
      "outputs": [],
      "source": [
        "print(test_timeseries_in.data[:])\nio.close()"
      ]
    },
    {
      "cell_type": "markdown",
      "metadata": {},
      "source": [
        "::\n\n  [100 110 120 130 140 150 160 170 180 190]\n\nIf you use :py:class:`~pynwb.NWBHDF5IO` as a context manager during read, be aware that the\n:py:class:`~pynwb.NWBHDF5IO` gets closed and when the context completes and the data will not be\navailable outside of the context manager [#]_.\n\n"
      ]
    },
    {
      "cell_type": "markdown",
      "metadata": {},
      "source": [
        "## Adding More Data\n\nThe following illustrates basic data organizational structures that are used throughout NWB:N.\n\n\n### Reusing timestamps\n\nWhen working with multi-modal data, it can be convenient and efficient to store timestamps once and associate multiple\ndata with the single timestamps instance. PyNWB enables this by letting you reuse timestamps across\n:class:`~pynwb.base.TimeSeries` objects. To reuse a :class:`~pynwb.base.TimeSeries` timestamps in a new\n:class:`~pynwb.base.TimeSeries`, pass the existing :class:`~pynwb.base.TimeSeries` as the new\n:class:`~pynwb.base.TimeSeries` timestamps:\n\n"
      ]
    },
    {
      "cell_type": "code",
      "execution_count": null,
      "metadata": {
        "collapsed": false
      },
      "outputs": [],
      "source": [
        "data = list(range(101, 201, 10))\nreuse_ts = TimeSeries('reusing_timeseries', data, 'SIunit', timestamps=test_ts)"
      ]
    },
    {
      "cell_type": "markdown",
      "metadata": {},
      "source": [
        "\n## Data interfaces\n\nNWB provides the concept of a *data interface*--an object for a standard\nstorage location of specific types of data--through the :py:class:`~pynwb.core.NWBDataInterface` class.\nFor example, :py:class:`~pynwb.behavior.Position` provides a container that holds one or more\n:py:class:`~pynwb.behavior.SpatialSeries` objects. :py:class:`~pynwb.behavior.SpatialSeries` is a subtype of\n:py:class:`~pynwb.base.TimeSeries` that represents the spatial position of an animal over time. By putting\nyour position data into a :py:class:`~pynwb.behavior.Position` container, downstream users and\ntools know where to look to retrieve position data. For a comprehensive list of available data interfaces, see the\n`overview page <modules_overview>`. Here is how to create a :py:class:`~pynwb.behavior.Position` object\nnamed '`Position'` [#]_.\n\n"
      ]
    },
    {
      "cell_type": "code",
      "execution_count": null,
      "metadata": {
        "collapsed": false
      },
      "outputs": [],
      "source": [
        "from pynwb.behavior import Position\n\nposition = Position()"
      ]
    },
    {
      "cell_type": "markdown",
      "metadata": {},
      "source": [
        "You can add objects to a data interface as a method of the data interface:\n\n"
      ]
    },
    {
      "cell_type": "code",
      "execution_count": null,
      "metadata": {
        "collapsed": false
      },
      "outputs": [],
      "source": [
        "position.create_spatial_series(name='position1',\n                               data=np.linspace(0, 1, 20),\n                               rate=50.,\n                               reference_frame='starting gate')"
      ]
    },
    {
      "cell_type": "markdown",
      "metadata": {},
      "source": [
        "or you can add pre-existing objects:\n\n"
      ]
    },
    {
      "cell_type": "code",
      "execution_count": null,
      "metadata": {
        "collapsed": false
      },
      "outputs": [],
      "source": [
        "from pynwb.behavior import SpatialSeries\n\nspatial_series = SpatialSeries(name='position2',\n                               data=np.linspace(0, 1, 20),\n                               rate=50.,\n                               reference_frame='starting gate')\n\nposition.add_spatial_series(spatial_series)"
      ]
    },
    {
      "cell_type": "markdown",
      "metadata": {},
      "source": [
        "or include the object during construction:\n\n"
      ]
    },
    {
      "cell_type": "code",
      "execution_count": null,
      "metadata": {
        "collapsed": false
      },
      "outputs": [],
      "source": [
        "spatial_series = SpatialSeries(name='position2',\n                               data=np.linspace(0, 1, 20),\n                               rate=50.,\n                               reference_frame='starting gate')\n\nposition = Position(spatial_series=spatial_series)"
      ]
    },
    {
      "cell_type": "markdown",
      "metadata": {},
      "source": [
        "Each data interface stores its own type of data. We suggest you read the documentation for the\ndata interface of interest in the `API documentation <api_docs>` to figure out what data the\ndata interface allows and/or requires and what methods you will need to call to add this data.\n\n"
      ]
    },
    {
      "cell_type": "markdown",
      "metadata": {},
      "source": [
        "\n## Processing modules\n\n*Processing modules* are used for storing a set of data interfaces that are related to a particular\nprocessing workflow. For example, if you want to store the intermediate results of a spike sorting workflow,\nyou could create a :py:class:`~pynwb.base.ProcessingModule` that contains data interfaces that represent\nthe common first steps in spike sorting e.g. :py:class:`~pynwb.ecephys.EventDetection`,\n:py:class:`~pynwb.ecephys.EventWaveform`,  :py:class:`~pynwb.ecephys.FeatureExtraction`. The final results of\nthe sorting could then be stored in the top-level :py:class:`~pynwb.misc.Units` table (see below).\nDerived preprocessed data should go in a processing module, which you can create using\n:py:meth:`~pynwb.file.NWBFile.create_processing_module`:\n\n"
      ]
    },
    {
      "cell_type": "code",
      "execution_count": null,
      "metadata": {
        "collapsed": false
      },
      "outputs": [],
      "source": [
        "behavior_module = nwbfile.create_processing_module(name='behavior',\n                                                   description='preprocessed behavioral data')"
      ]
    },
    {
      "cell_type": "markdown",
      "metadata": {},
      "source": [
        "or by directly calling the constructor and adding to the :py:class:`~pynwb.file.NWBFile` using\n:py:meth:`~pynwb.file.NWBFile.add_processing_module`:\n\n"
      ]
    },
    {
      "cell_type": "code",
      "execution_count": null,
      "metadata": {
        "collapsed": false
      },
      "outputs": [],
      "source": [
        "from pynwb import ProcessingModule\n\necephys_module = ProcessingModule(name='ecephys',\n                                  description='preprocessed extracellular electrophysiology')\nnwbfile.add_processing_module(ecephys_module)"
      ]
    },
    {
      "cell_type": "markdown",
      "metadata": {},
      "source": [
        "Best practice is to use the NWB schema module names as processing module names where appropriate.\nThese are: 'behavior', 'ecephys', 'icephys', 'ophys', 'ogen', 'retinotopy', and 'misc'. You may also create\na processing module with a custom name. Once these processing modules are added, access them with\n\n"
      ]
    },
    {
      "cell_type": "code",
      "execution_count": null,
      "metadata": {
        "collapsed": false
      },
      "outputs": [],
      "source": [
        "nwbfile.processing"
      ]
    },
    {
      "cell_type": "markdown",
      "metadata": {},
      "source": [
        "#### which returns a `dict`:\n\n   {'behavior':\n    behavior <class 'pynwb.base.ProcessingModule'>\n    Fields:\n      data_interfaces: { Position <class 'pynwb.behavior.Position'> }\n      description: preprocessed behavioral data, 'ecephys':\n    ecephys <class 'pynwb.base.ProcessingModule'>\n    Fields:\n      data_interfaces: { }\n      description: preprocessed extracellular electrophysiology}\n\n:py:class:`~pynwb.core.NWBDataInterface` objects can be added to the behavior `ProcessingModule <basic_procmod>`.\n\n"
      ]
    },
    {
      "cell_type": "code",
      "execution_count": null,
      "metadata": {
        "collapsed": false
      },
      "outputs": [],
      "source": [
        "nwbfile.processing['behavior'].add(position)"
      ]
    },
    {
      "cell_type": "markdown",
      "metadata": {},
      "source": [
        "## Time Intervals\n\n\n### Trials\n\nTrials can be added to an NWB file using the methods :py:meth:`~pynwb.file.NWBFile.add_trial`\nand :py:meth:`~pynwb.file.NWBFile.add_trial_column`. Together, these methods maintains a\ntable-like structure that can define arbitrary columns without having to go through the\nextension process.\n\nBy default, NWBFile only requires trial start time and trial end time. Additional columns\ncan be added using :py:meth:`~pynwb.file.NWBFile.add_trial_column`. This method takes a name\nfor the column and a description of what the column stores. You do not need to supply data\ntype, as this will inferred.\nOnce all columns have been added, trial data can be populated using :py:meth:`~pynwb.file.NWBFile.add_trial`.\n\nLets add an additional column and some trial data.\n\n"
      ]
    },
    {
      "cell_type": "code",
      "execution_count": null,
      "metadata": {
        "collapsed": false
      },
      "outputs": [],
      "source": [
        "nwbfile.add_trial_column(name='stim', description='the visual stimuli during the trial')\n\nnwbfile.add_trial(start_time=0.0, stop_time=2.0, stim='person')\nnwbfile.add_trial(start_time=3.0, stop_time=5.0, stim='ocean')\nnwbfile.add_trial(start_time=6.0, stop_time=8.0, stim='desert')"
      ]
    },
    {
      "cell_type": "markdown",
      "metadata": {},
      "source": [
        "Tabular data such as trials can be converted to a `pandas.DataFrame`.\n\n"
      ]
    },
    {
      "cell_type": "code",
      "execution_count": null,
      "metadata": {
        "collapsed": false
      },
      "outputs": [],
      "source": [
        "print(nwbfile.trials.to_dataframe())"
      ]
    },
    {
      "cell_type": "markdown",
      "metadata": {},
      "source": [
        "::\n\n          start_time  stop_time    stim\n      id\n      0          0.0        2.0  person\n      1          3.0        5.0   ocean\n      2          6.0        8.0  desert\n\n\n### Epochs\n\nEpochs can be added to an NWB file using the method :py:meth:`~pynwb.file.NWBFile.add_epoch`.\nThe first and second arguments are the start time and stop times, respectively.\nThe third argument is one or more tags for labeling the epoch, and the fourth argument is a\nlist of all the :py:class:`~pynwb.base.TimeSeries` that the epoch applies\nto.\n\n"
      ]
    },
    {
      "cell_type": "code",
      "execution_count": null,
      "metadata": {
        "collapsed": false
      },
      "outputs": [],
      "source": [
        "nwbfile.add_epoch(2.0, 4.0, ['first', 'example'], [test_ts, ])\nnwbfile.add_epoch(6.0, 8.0, ['second', 'example'], [test_ts, ])"
      ]
    },
    {
      "cell_type": "markdown",
      "metadata": {},
      "source": [
        "### Other time intervals\nBoth ``epochs`` and ``trials`` are of of data type :py:class:`~pynwb.epoch.TimeIntervals`, which is a type of\n``DynamicTable`` for storing information about time intervals. ``\"epochs\"`` and ``\"trials\"``\nare the two default names for :py:class:`~pynwb.base.TimeIntervals` objects, but you can also add your own\n\n"
      ]
    },
    {
      "cell_type": "code",
      "execution_count": null,
      "metadata": {
        "collapsed": false
      },
      "outputs": [],
      "source": [
        "from pynwb.epoch import TimeIntervals\n\nsleep_stages = TimeIntervals(\n    name=\"sleep_stages\",\n    description=\"intervals for each sleep stage as determined by EEG\",\n)\n\nsleep_stages.add_column(name=\"stage\", description=\"stage of sleep\")\nsleep_stages.add_column(name=\"confidence\", description=\"confidence in stage (0-1)\")\n\nsleep_stages.add_row(start_time=0.3, stop_time=0.5, stage=1, confidence=.5)\nsleep_stages.add_row(start_time=0.7, stop_time=0.9, stage=2, confidence=.99)\nsleep_stages.add_row(start_time=1.3, stop_time=3.0, stage=3, confidence=0.7)\n\nnwbfile.add_time_intervals(sleep_stages)"
      ]
    },
    {
      "cell_type": "markdown",
      "metadata": {},
      "source": [
        "\n## Units\n\nUnits are putative cells in your analysis. Unit metadata can be added to an NWB file using the methods\n:py:meth:`~pynwb.file.NWBFile.add_unit` and :py:meth:`~pynwb.file.NWBFile.add_unit_column`. These methods\nwork like the methods for adding trials described `above <basic_trials>`\n\nA unit is only required to contain a unique integer identifier in the 'id' column\n(this will be automatically assigned if not provided). Additional optional values for each unit\ninclude: `spike_times`, `electrodes`, `electrode_group`, `obs_intervals`, `waveform_mean`, and `waveform_sd`.\nAdditional user-defined columns can be added using :py:meth:`~pynwb.file.NWBFile.add_unit_column`. Like\n:py:meth:`~pynwb.file.NWBFile.add_trial_column`, this method also takes a name\nfor the column, a description of what the column stores and does not need a data type.\nOnce all columns have been added, unit data can be populated using :py:meth:`~pynwb.file.NWBFile.add_unit`.\n\nWhen providing `spike_times`, you may also wish to specify the time intervals during which the unit was\nbeing observed, so that it is possible to distinguish times when the unit was silent from times when the\nunit was not being recorded (and thus correctly compute firing rates, for example). This information\nshould be provided as a list of [start, end] time pairs in the `obs_intervals` field. If `obs_intervals` is\nprovided, then all entries in `spike_times` should occur within one of the listed intervals. In the example\nbelow, all 3 units are observed during the time period from 1 to 10 s and fired spikes during that period.\nUnits 2 and 3 were also observed during the time period from 20-30s; but only unit 2 fired spikes in that\nperiod.\n\nLets specify some unit metadata and then add some units:\n\n"
      ]
    },
    {
      "cell_type": "code",
      "execution_count": null,
      "metadata": {
        "collapsed": false
      },
      "outputs": [],
      "source": [
        "nwbfile.add_unit_column('location', 'the anatomical location of this unit')\nnwbfile.add_unit_column('quality', 'the quality for the inference of this unit')\n\nnwbfile.add_unit(id=1, spike_times=[2.2, 3.0, 4.5],\n                 obs_intervals=[[1, 10]], location='CA1', quality=0.95)\nnwbfile.add_unit(id=2, spike_times=[2.2, 3.0, 25.0, 26.0],\n                 obs_intervals=[[1, 10], [20, 30]], location='CA3', quality=0.85)\nnwbfile.add_unit(id=3, spike_times=[1.2, 2.3, 3.3, 4.5],\n                 obs_intervals=[[1, 10], [20, 30]], location='CA1', quality=0.90)"
      ]
    },
    {
      "cell_type": "markdown",
      "metadata": {},
      "source": [
        "Now we overwrite the file with all of the data\n\n"
      ]
    },
    {
      "cell_type": "code",
      "execution_count": null,
      "metadata": {
        "collapsed": false
      },
      "outputs": [],
      "source": [
        "with NWBHDF5IO('example_file_path.nwb', 'w') as io:\n    io.write(nwbfile)"
      ]
    },
    {
      "cell_type": "markdown",
      "metadata": {},
      "source": [
        "\n<div class=\"alert alert-info\"><h4>Note</h4><p>The Units table has some predefined optional columns. Please review the documentation for\n   :py:meth:`~pynwb.file.NWBFile.add_unit` before adding custom columns.</p></div>\n\n"
      ]
    },
    {
      "cell_type": "markdown",
      "metadata": {},
      "source": [
        "\n## Appending to an NWB file\n\nUsing functionality discussed above, NWB allows appending to files. To append to a file, you must read the file, add\nnew components, and then write the file. Reading and writing is carried out using :py:class:`~pynwb.NWBHDF5IO`.\nWhen reading the NWBFile, you must specify that you intend to modify it by setting the *mode* argument in the\n:py:class:`~pynwb.NWBHDF5IO` constructor to ``'a'``. After you have read the file, you can add [#]_ new data to it\nusing the standard write/add functionality demonstrated above.\n\nLet's see how this works by adding another :py:class:`~pynwb.base.TimeSeries` to the BehavioralTimeSeries interface\nwe created above.\n\nFirst, read the file and get the interface object.\n\n"
      ]
    },
    {
      "cell_type": "code",
      "execution_count": null,
      "metadata": {
        "collapsed": false
      },
      "outputs": [],
      "source": [
        "io = NWBHDF5IO('example_file_path.nwb', mode='a')\nnwbfile = io.read()\nposition = nwbfile.processing['behavior'].data_interfaces['Position']"
      ]
    },
    {
      "cell_type": "markdown",
      "metadata": {},
      "source": [
        "Next, add a new :py:class:`~pynwb.behavior.SpatialSeries`.\n\n"
      ]
    },
    {
      "cell_type": "code",
      "execution_count": null,
      "metadata": {
        "collapsed": false
      },
      "outputs": [],
      "source": [
        "data = list(range(300, 400, 10))\ntimestamps = list(range(10))\ntest_spatial_series = SpatialSeries('test_spatialseries2', data,\n                                    reference_frame='starting_gate',\n                                    timestamps=timestamps)\nposition.add_spatial_series(test_spatial_series)"
      ]
    },
    {
      "cell_type": "markdown",
      "metadata": {},
      "source": [
        "Finally, write the changes back to the file and close it.\n\n"
      ]
    },
    {
      "cell_type": "code",
      "execution_count": null,
      "metadata": {
        "collapsed": false
      },
      "outputs": [],
      "source": [
        "io.write(nwbfile)\nio.close()"
      ]
    },
    {
      "cell_type": "markdown",
      "metadata": {},
      "source": [
        ".. [#] HDF5 is currently the only backend supported by NWB.\n\n.. [#] Neurodata sets can be *very* large, so individual components of the dataset are only loaded into memory when\n   you request them. This functionality is only possible if an open file handle is kept around until users want to\n   load data.\n\n.. [#] Some data interface objects have a default name. This default name is the type of the data interface. For\n   example, the default name for :py:class:`~pynwb.ophys.ImageSegmentation` is \"ImageSegmentation\" and the default\n   name for :py:class:`~pynwb.ecephys.EventWaveform` is \"EventWaveform\".\n\n.. [#] NWB only supports *adding* to files. Removal and modifying of existing data is not allowed.\n\n"
      ]
    },
    {
      "cell_type": "markdown",
      "metadata": {},
      "source": [
        "\n"
      ]
    }
  ],
  "metadata": {
    "kernelspec": {
      "display_name": "Python 3",
      "language": "python",
      "name": "python3"
    },
    "language_info": {
      "codemirror_mode": {
        "name": "ipython",
        "version": 3
      },
      "file_extension": ".py",
      "mimetype": "text/x-python",
      "name": "python",
      "nbconvert_exporter": "python",
      "pygments_lexer": "ipython3",
      "version": "3.7.9"
    }
  },
  "nbformat": 4,
  "nbformat_minor": 0
}